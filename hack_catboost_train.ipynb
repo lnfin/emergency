{
 "cells": [
  {
   "cell_type": "code",
   "execution_count": 28,
   "id": "591f9207",
   "metadata": {
    "id": "ugKeEHvkOUh6"
   },
   "outputs": [
    {
     "name": "stdout",
     "output_type": "stream",
     "text": [
      "Downloading...\n",
      "From: https://drive.google.com/uc?id=1fvKO9isQzaN0dUuLnWc3MOhFzctVvXz3\n",
      "To: /mnt/c/Users/dalma/OneDrive/Рабочий стол/AI/emergency/data.csv\n",
      "100%|██████████████████████████████████████| 85.7M/85.7M [00:15<00:00, 5.55MB/s]\n",
      "Downloading...\n",
      "From: https://drive.google.com/uc?id=12_5iM4epl3bsxAtlrS7jHjmgZxzk6cIM\n",
      "To: /mnt/c/Users/dalma/OneDrive/Рабочий стол/AI/emergency/nn.json\n",
      "100%|██████████████████████████████████████| 20.2k/20.2k [00:00<00:00, 1.18MB/s]\n",
      "--2022-06-05 07:49:31--  https://raw.githubusercontent.com/d10xa/holidays-calendar/master/json/calendar.json\n",
      "Resolving raw.githubusercontent.com (raw.githubusercontent.com)... 185.199.111.133, 185.199.108.133, 185.199.109.133, ...\n",
      "Connecting to raw.githubusercontent.com (raw.githubusercontent.com)|185.199.111.133|:443... connected.\n",
      "HTTP request sent, awaiting response... 200 OK\n",
      "Length: 33185 (32K) [text/plain]\n",
      "Saving to: ‘calendar.json.1’\n",
      "\n",
      "calendar.json.1     100%[===================>]  32.41K  --.-KB/s    in 0.005s  \n",
      "\n",
      "2022-06-05 07:49:31 (6.10 MB/s) - ‘calendar.json.1’ saved [33185/33185]\n",
      "\n"
     ]
    }
   ],
   "source": [
    "\n",
    "!gdown --fuzzy -O data.csv https://drive.google.com/file/d/1fvKO9isQzaN0dUuLnWc3MOhFzctVvXz3/view?usp=sharing\n",
    "!gdown --fuzzy -O nn.json https://drive.google.com/file/d/12_5iM4epl3bsxAtlrS7jHjmgZxzk6cIM/view?usp=sharing\n",
    "!wget https://raw.githubusercontent.com/d10xa/holidays-calendar/master/json/calendar.json"
   ]
  },
  {
   "cell_type": "code",
   "execution_count": 36,
   "id": "e7edff58",
   "metadata": {},
   "outputs": [
    {
     "data": {
      "text/plain": [
       "0    2020-01-01\n",
       "11   2020-01-01\n",
       "9    2020-01-01\n",
       "8    2020-01-01\n",
       "7    2020-01-01\n",
       "6    2020-01-01\n",
       "10   2020-01-01\n",
       "4    2020-01-01\n",
       "3    2020-01-01\n",
       "2    2020-01-01\n",
       "1    2020-01-01\n",
       "5    2020-01-01\n",
       "12   2020-01-02\n",
       "13   2020-01-02\n",
       "14   2020-01-02\n",
       "15   2020-01-02\n",
       "16   2020-01-02\n",
       "17   2020-01-02\n",
       "18   2020-01-02\n",
       "25   2020-01-03\n",
       "26   2020-01-03\n",
       "23   2020-01-03\n",
       "24   2020-01-03\n",
       "21   2020-01-03\n",
       "20   2020-01-03\n",
       "19   2020-01-03\n",
       "22   2020-01-03\n",
       "27   2020-01-04\n",
       "28   2020-01-04\n",
       "42   2020-01-05\n",
       "Name: Дата, dtype: datetime64[ns]"
      ]
     },
     "execution_count": 36,
     "metadata": {},
     "output_type": "execute_result"
    }
   ],
   "source": [
    "import pandas as pd\n"
   ]
  },
  {
   "cell_type": "code",
   "execution_count": null,
   "id": "0cc13fac",
   "metadata": {
    "id": "xBulD09pP6vM"
   },
   "outputs": [],
   "source": [
    "%%capture\n",
    "!pip install catboost"
   ]
  },
  {
   "cell_type": "code",
   "execution_count": 107,
   "id": "518e1e96",
   "metadata": {
    "id": "8bd38ad1-2a49-4d49-a2b0-acb4bf10b335"
   },
   "outputs": [],
   "source": [
    "import pandas as pd\n",
    "import numpy as np\n",
    "import datetime\n",
    "import json\n",
    "import numpy as np"
   ]
  },
  {
   "cell_type": "code",
   "execution_count": 108,
   "id": "cfab951f",
   "metadata": {
    "id": "0lv8BKQAX05S"
   },
   "outputs": [],
   "source": [
    "with open(\"nn.json\") as f:\n",
    "    stats = json.load(f)\n",
    "\n",
    "to_df = {}\n",
    "for year, d in stats.items():\n",
    "    for month, value in d.items():\n",
    "        for i in range(1, len(value['temp'])+1):\n",
    "            new_key = str(year) + '/' + month + '/' + str(i)\n",
    "            cur = {}\n",
    "            for col in value.keys():\n",
    "                cur.update({col: value[col][i-1]})\n",
    "            to_df[new_key] = cur\n",
    "weather = pd.DataFrame.from_dict(to_df, orient='index')\n",
    "weather.index = [datetime.datetime.strptime(x, '%Y/%B/%d') for x in weather.index.values]\n",
    "weather = weather.reset_index().rename({\"index\": \"Дата\"}, axis=1)"
   ]
  },
  {
   "cell_type": "code",
   "execution_count": 109,
   "id": "08c6dea6",
   "metadata": {
    "id": "yNrkPPHKf1iv"
   },
   "outputs": [],
   "source": [
    "with open(\"calendar.json\", \"r\") as f:\n",
    "    nowork_days = json.load(f)"
   ]
  },
  {
   "cell_type": "code",
   "execution_count": 110,
   "id": "4c351eca",
   "metadata": {
    "colab": {
     "base_uri": "https://localhost:8080/",
     "height": 112
    },
    "id": "g__ybfOwaWUF",
    "outputId": "c03fec53-88bb-4fc5-be37-7a9ffd932caa"
   },
   "outputs": [
    {
     "data": {
      "text/html": [
       "<div>\n",
       "<style scoped>\n",
       "    .dataframe tbody tr th:only-of-type {\n",
       "        vertical-align: middle;\n",
       "    }\n",
       "\n",
       "    .dataframe tbody tr th {\n",
       "        vertical-align: top;\n",
       "    }\n",
       "\n",
       "    .dataframe thead th {\n",
       "        text-align: right;\n",
       "    }\n",
       "</style>\n",
       "<table border=\"1\" class=\"dataframe\">\n",
       "  <thead>\n",
       "    <tr style=\"text-align: right;\">\n",
       "      <th></th>\n",
       "      <th>Дата</th>\n",
       "      <th>temp</th>\n",
       "      <th>wet</th>\n",
       "      <th>p</th>\n",
       "      <th>wind</th>\n",
       "    </tr>\n",
       "  </thead>\n",
       "  <tbody>\n",
       "    <tr>\n",
       "      <th>0</th>\n",
       "      <td>2020-01-01</td>\n",
       "      <td>-3.86</td>\n",
       "      <td>93.71</td>\n",
       "      <td>744</td>\n",
       "      <td>3</td>\n",
       "    </tr>\n",
       "    <tr>\n",
       "      <th>1</th>\n",
       "      <td>2020-01-02</td>\n",
       "      <td>-2.57</td>\n",
       "      <td>92.29</td>\n",
       "      <td>749</td>\n",
       "      <td>3</td>\n",
       "    </tr>\n",
       "  </tbody>\n",
       "</table>\n",
       "</div>"
      ],
      "text/plain": [
       "        Дата  temp    wet    p  wind\n",
       "0 2020-01-01 -3.86  93.71  744     3\n",
       "1 2020-01-02 -2.57  92.29  749     3"
      ]
     },
     "execution_count": 110,
     "metadata": {},
     "output_type": "execute_result"
    }
   ],
   "source": [
    "weather.head(2)"
   ]
  },
  {
   "cell_type": "code",
   "execution_count": 111,
   "id": "f0ce306a",
   "metadata": {},
   "outputs": [
    {
     "data": {
      "text/html": [
       "<div>\n",
       "<style scoped>\n",
       "    .dataframe tbody tr th:only-of-type {\n",
       "        vertical-align: middle;\n",
       "    }\n",
       "\n",
       "    .dataframe tbody tr th {\n",
       "        vertical-align: top;\n",
       "    }\n",
       "\n",
       "    .dataframe thead th {\n",
       "        text-align: right;\n",
       "    }\n",
       "</style>\n",
       "<table border=\"1\" class=\"dataframe\">\n",
       "  <thead>\n",
       "    <tr style=\"text-align: right;\">\n",
       "      <th></th>\n",
       "      <th>Диагноз</th>\n",
       "      <th>Результат</th>\n",
       "      <th>Дата</th>\n",
       "      <th>Номер</th>\n",
       "      <th>Возраст</th>\n",
       "      <th>Подстанция</th>\n",
       "      <th>year</th>\n",
       "      <th>month</th>\n",
       "      <th>day</th>\n",
       "      <th>quarter</th>\n",
       "      <th>...</th>\n",
       "      <th>Кто вызвал_сотрудник администрации, ЖЭКа, социальный работник</th>\n",
       "      <th>Кто вызвал_сотрудник полиции</th>\n",
       "      <th>Кто вызвал_средний медицинский работник ЛПУ</th>\n",
       "      <th>Кто вызвал_участковый врач</th>\n",
       "      <th>Вид_внезапное заболевание</th>\n",
       "      <th>Вид_неотложное состояние</th>\n",
       "      <th>Вид_несчастный случай</th>\n",
       "      <th>Вид_патология беременности</th>\n",
       "      <th>Вид_роды</th>\n",
       "      <th>Вид_хроническое заболевание</th>\n",
       "    </tr>\n",
       "  </thead>\n",
       "  <tbody>\n",
       "    <tr>\n",
       "      <th>0</th>\n",
       "      <td>ОРВИ. Гипертермический синдром</td>\n",
       "      <td>оказана помощь, больной оставлен на месте</td>\n",
       "      <td>2020-01-01</td>\n",
       "      <td>8(8)</td>\n",
       "      <td>26</td>\n",
       "      <td>ПСМП №7</td>\n",
       "      <td>2020.0</td>\n",
       "      <td>1.0</td>\n",
       "      <td>1.0</td>\n",
       "      <td>1.0</td>\n",
       "      <td>...</td>\n",
       "      <td>0</td>\n",
       "      <td>0</td>\n",
       "      <td>0</td>\n",
       "      <td>0</td>\n",
       "      <td>0</td>\n",
       "      <td>1</td>\n",
       "      <td>0</td>\n",
       "      <td>0</td>\n",
       "      <td>0</td>\n",
       "      <td>0</td>\n",
       "    </tr>\n",
       "    <tr>\n",
       "      <th>11</th>\n",
       "      <td>ОРВИ. Гипертермический синдром</td>\n",
       "      <td>отказ от транспортировки для госпитализации в ...</td>\n",
       "      <td>2020-01-01</td>\n",
       "      <td>92(92)</td>\n",
       "      <td>7</td>\n",
       "      <td>ПСМП №7</td>\n",
       "      <td>2020.0</td>\n",
       "      <td>1.0</td>\n",
       "      <td>1.0</td>\n",
       "      <td>1.0</td>\n",
       "      <td>...</td>\n",
       "      <td>0</td>\n",
       "      <td>0</td>\n",
       "      <td>0</td>\n",
       "      <td>0</td>\n",
       "      <td>1</td>\n",
       "      <td>0</td>\n",
       "      <td>0</td>\n",
       "      <td>0</td>\n",
       "      <td>0</td>\n",
       "      <td>0</td>\n",
       "    </tr>\n",
       "    <tr>\n",
       "      <th>9</th>\n",
       "      <td>ОРВИ. Гипертермический синдром</td>\n",
       "      <td>отказ от транспортировки для госпитализации в ...</td>\n",
       "      <td>2020-01-01</td>\n",
       "      <td>77(77)</td>\n",
       "      <td>15</td>\n",
       "      <td>ПСМП №7</td>\n",
       "      <td>2020.0</td>\n",
       "      <td>1.0</td>\n",
       "      <td>1.0</td>\n",
       "      <td>1.0</td>\n",
       "      <td>...</td>\n",
       "      <td>0</td>\n",
       "      <td>0</td>\n",
       "      <td>0</td>\n",
       "      <td>0</td>\n",
       "      <td>0</td>\n",
       "      <td>1</td>\n",
       "      <td>0</td>\n",
       "      <td>0</td>\n",
       "      <td>0</td>\n",
       "      <td>0</td>\n",
       "    </tr>\n",
       "    <tr>\n",
       "      <th>8</th>\n",
       "      <td>ОРВИ. Гипертермический синдром</td>\n",
       "      <td>отказ от транспортировки для госпитализации в ...</td>\n",
       "      <td>2020-01-01</td>\n",
       "      <td>69(69)</td>\n",
       "      <td>24</td>\n",
       "      <td>ПСМП №7</td>\n",
       "      <td>2020.0</td>\n",
       "      <td>1.0</td>\n",
       "      <td>1.0</td>\n",
       "      <td>1.0</td>\n",
       "      <td>...</td>\n",
       "      <td>0</td>\n",
       "      <td>0</td>\n",
       "      <td>0</td>\n",
       "      <td>0</td>\n",
       "      <td>0</td>\n",
       "      <td>1</td>\n",
       "      <td>0</td>\n",
       "      <td>0</td>\n",
       "      <td>0</td>\n",
       "      <td>0</td>\n",
       "    </tr>\n",
       "    <tr>\n",
       "      <th>7</th>\n",
       "      <td></td>\n",
       "      <td>смерть до приезда бригады СМП</td>\n",
       "      <td>2020-01-01</td>\n",
       "      <td>66(66)</td>\n",
       "      <td>80</td>\n",
       "      <td>ПСМП №7</td>\n",
       "      <td>2020.0</td>\n",
       "      <td>1.0</td>\n",
       "      <td>1.0</td>\n",
       "      <td>1.0</td>\n",
       "      <td>...</td>\n",
       "      <td>0</td>\n",
       "      <td>0</td>\n",
       "      <td>0</td>\n",
       "      <td>0</td>\n",
       "      <td>0</td>\n",
       "      <td>1</td>\n",
       "      <td>0</td>\n",
       "      <td>0</td>\n",
       "      <td>0</td>\n",
       "      <td>0</td>\n",
       "    </tr>\n",
       "    <tr>\n",
       "      <th>...</th>\n",
       "      <td>...</td>\n",
       "      <td>...</td>\n",
       "      <td>...</td>\n",
       "      <td>...</td>\n",
       "      <td>...</td>\n",
       "      <td>...</td>\n",
       "      <td>...</td>\n",
       "      <td>...</td>\n",
       "      <td>...</td>\n",
       "      <td>...</td>\n",
       "      <td>...</td>\n",
       "      <td>...</td>\n",
       "      <td>...</td>\n",
       "      <td>...</td>\n",
       "      <td>...</td>\n",
       "      <td>...</td>\n",
       "      <td>...</td>\n",
       "      <td>...</td>\n",
       "      <td>...</td>\n",
       "      <td>...</td>\n",
       "      <td>...</td>\n",
       "    </tr>\n",
       "    <tr>\n",
       "      <th>80433</th>\n",
       "      <td>Гипертоническая болезнь</td>\n",
       "      <td>оказана помощь, больной оставлен на месте</td>\n",
       "      <td>2022-05-24</td>\n",
       "      <td>14406(11)</td>\n",
       "      <td>60</td>\n",
       "      <td>Кстовская ЦРБ</td>\n",
       "      <td>2022.0</td>\n",
       "      <td>5.0</td>\n",
       "      <td>24.0</td>\n",
       "      <td>2.0</td>\n",
       "      <td>...</td>\n",
       "      <td>0</td>\n",
       "      <td>0</td>\n",
       "      <td>0</td>\n",
       "      <td>0</td>\n",
       "      <td>0</td>\n",
       "      <td>1</td>\n",
       "      <td>0</td>\n",
       "      <td>0</td>\n",
       "      <td>0</td>\n",
       "      <td>0</td>\n",
       "    </tr>\n",
       "    <tr>\n",
       "      <th>80432</th>\n",
       "      <td>Бронхиальная астма</td>\n",
       "      <td>оказана помощь, больной оставлен на месте</td>\n",
       "      <td>2022-05-24</td>\n",
       "      <td>6025(4)</td>\n",
       "      <td>78</td>\n",
       "      <td>Лысковская ЦРБ</td>\n",
       "      <td>2022.0</td>\n",
       "      <td>5.0</td>\n",
       "      <td>24.0</td>\n",
       "      <td>2.0</td>\n",
       "      <td>...</td>\n",
       "      <td>0</td>\n",
       "      <td>0</td>\n",
       "      <td>0</td>\n",
       "      <td>0</td>\n",
       "      <td>1</td>\n",
       "      <td>0</td>\n",
       "      <td>0</td>\n",
       "      <td>0</td>\n",
       "      <td>0</td>\n",
       "      <td>0</td>\n",
       "    </tr>\n",
       "    <tr>\n",
       "      <th>80420</th>\n",
       "      <td>Эпилепсия. Состояние после эпиприпадка</td>\n",
       "      <td>отказ от транспортировки для госпитализации в ...</td>\n",
       "      <td>2022-05-24</td>\n",
       "      <td>171922(142)</td>\n",
       "      <td>29</td>\n",
       "      <td>ПСМП №7</td>\n",
       "      <td>2022.0</td>\n",
       "      <td>5.0</td>\n",
       "      <td>24.0</td>\n",
       "      <td>2.0</td>\n",
       "      <td>...</td>\n",
       "      <td>0</td>\n",
       "      <td>0</td>\n",
       "      <td>0</td>\n",
       "      <td>0</td>\n",
       "      <td>1</td>\n",
       "      <td>0</td>\n",
       "      <td>0</td>\n",
       "      <td>0</td>\n",
       "      <td>0</td>\n",
       "      <td>0</td>\n",
       "    </tr>\n",
       "    <tr>\n",
       "      <th>80511</th>\n",
       "      <td>ОРВИ</td>\n",
       "      <td>отказ от транспортировки для госпитализации в ...</td>\n",
       "      <td>2022-05-24</td>\n",
       "      <td>171618(865)</td>\n",
       "      <td>1</td>\n",
       "      <td>ПСМП №4</td>\n",
       "      <td>2022.0</td>\n",
       "      <td>5.0</td>\n",
       "      <td>24.0</td>\n",
       "      <td>2.0</td>\n",
       "      <td>...</td>\n",
       "      <td>0</td>\n",
       "      <td>0</td>\n",
       "      <td>0</td>\n",
       "      <td>0</td>\n",
       "      <td>1</td>\n",
       "      <td>0</td>\n",
       "      <td>0</td>\n",
       "      <td>0</td>\n",
       "      <td>0</td>\n",
       "      <td>0</td>\n",
       "    </tr>\n",
       "    <tr>\n",
       "      <th>80418</th>\n",
       "      <td>Артериальная   гипертензия</td>\n",
       "      <td>оказана помощь, больной оставлен на месте</td>\n",
       "      <td>2022-05-24</td>\n",
       "      <td>10255(10)</td>\n",
       "      <td>74</td>\n",
       "      <td>БСМП г. Арзамас</td>\n",
       "      <td>2022.0</td>\n",
       "      <td>5.0</td>\n",
       "      <td>24.0</td>\n",
       "      <td>2.0</td>\n",
       "      <td>...</td>\n",
       "      <td>0</td>\n",
       "      <td>0</td>\n",
       "      <td>0</td>\n",
       "      <td>0</td>\n",
       "      <td>0</td>\n",
       "      <td>1</td>\n",
       "      <td>0</td>\n",
       "      <td>0</td>\n",
       "      <td>0</td>\n",
       "      <td>0</td>\n",
       "    </tr>\n",
       "  </tbody>\n",
       "</table>\n",
       "<p>166260 rows × 1461 columns</p>\n",
       "</div>"
      ],
      "text/plain": [
       "                                      Диагноз  \\\n",
       "0              ОРВИ. Гипертермический синдром   \n",
       "11             ОРВИ. Гипертермический синдром   \n",
       "9              ОРВИ. Гипертермический синдром   \n",
       "8              ОРВИ. Гипертермический синдром   \n",
       "7                                               \n",
       "...                                       ...   \n",
       "80433                 Гипертоническая болезнь   \n",
       "80432                      Бронхиальная астма   \n",
       "80420  Эпилепсия. Состояние после эпиприпадка   \n",
       "80511                                    ОРВИ   \n",
       "80418              Артериальная   гипертензия   \n",
       "\n",
       "                                               Результат       Дата  \\\n",
       "0              оказана помощь, больной оставлен на месте 2020-01-01   \n",
       "11     отказ от транспортировки для госпитализации в ... 2020-01-01   \n",
       "9      отказ от транспортировки для госпитализации в ... 2020-01-01   \n",
       "8      отказ от транспортировки для госпитализации в ... 2020-01-01   \n",
       "7                          смерть до приезда бригады СМП 2020-01-01   \n",
       "...                                                  ...        ...   \n",
       "80433          оказана помощь, больной оставлен на месте 2022-05-24   \n",
       "80432          оказана помощь, больной оставлен на месте 2022-05-24   \n",
       "80420  отказ от транспортировки для госпитализации в ... 2022-05-24   \n",
       "80511  отказ от транспортировки для госпитализации в ... 2022-05-24   \n",
       "80418          оказана помощь, больной оставлен на месте 2022-05-24   \n",
       "\n",
       "             Номер  Возраст       Подстанция    year  month   day  quarter  \\\n",
       "0             8(8)       26          ПСМП №7  2020.0    1.0   1.0      1.0   \n",
       "11          92(92)        7          ПСМП №7  2020.0    1.0   1.0      1.0   \n",
       "9           77(77)       15          ПСМП №7  2020.0    1.0   1.0      1.0   \n",
       "8           69(69)       24          ПСМП №7  2020.0    1.0   1.0      1.0   \n",
       "7           66(66)       80          ПСМП №7  2020.0    1.0   1.0      1.0   \n",
       "...            ...      ...              ...     ...    ...   ...      ...   \n",
       "80433    14406(11)       60    Кстовская ЦРБ  2022.0    5.0  24.0      2.0   \n",
       "80432      6025(4)       78   Лысковская ЦРБ  2022.0    5.0  24.0      2.0   \n",
       "80420  171922(142)       29          ПСМП №7  2022.0    5.0  24.0      2.0   \n",
       "80511  171618(865)        1          ПСМП №4  2022.0    5.0  24.0      2.0   \n",
       "80418    10255(10)       74  БСМП г. Арзамас  2022.0    5.0  24.0      2.0   \n",
       "\n",
       "       ...  Кто вызвал_сотрудник администрации, ЖЭКа, социальный работник  \\\n",
       "0      ...                                                  0               \n",
       "11     ...                                                  0               \n",
       "9      ...                                                  0               \n",
       "8      ...                                                  0               \n",
       "7      ...                                                  0               \n",
       "...    ...                                                ...               \n",
       "80433  ...                                                  0               \n",
       "80432  ...                                                  0               \n",
       "80420  ...                                                  0               \n",
       "80511  ...                                                  0               \n",
       "80418  ...                                                  0               \n",
       "\n",
       "       Кто вызвал_сотрудник полиции  \\\n",
       "0                                 0   \n",
       "11                                0   \n",
       "9                                 0   \n",
       "8                                 0   \n",
       "7                                 0   \n",
       "...                             ...   \n",
       "80433                             0   \n",
       "80432                             0   \n",
       "80420                             0   \n",
       "80511                             0   \n",
       "80418                             0   \n",
       "\n",
       "       Кто вызвал_средний медицинский работник ЛПУ  \\\n",
       "0                                                0   \n",
       "11                                               0   \n",
       "9                                                0   \n",
       "8                                                0   \n",
       "7                                                0   \n",
       "...                                            ...   \n",
       "80433                                            0   \n",
       "80432                                            0   \n",
       "80420                                            0   \n",
       "80511                                            0   \n",
       "80418                                            0   \n",
       "\n",
       "       Кто вызвал_участковый врач  Вид_внезапное заболевание  \\\n",
       "0                               0                          0   \n",
       "11                              0                          1   \n",
       "9                               0                          0   \n",
       "8                               0                          0   \n",
       "7                               0                          0   \n",
       "...                           ...                        ...   \n",
       "80433                           0                          0   \n",
       "80432                           0                          1   \n",
       "80420                           0                          1   \n",
       "80511                           0                          1   \n",
       "80418                           0                          0   \n",
       "\n",
       "       Вид_неотложное состояние  Вид_несчастный случай  \\\n",
       "0                             1                      0   \n",
       "11                            0                      0   \n",
       "9                             1                      0   \n",
       "8                             1                      0   \n",
       "7                             1                      0   \n",
       "...                         ...                    ...   \n",
       "80433                         1                      0   \n",
       "80432                         0                      0   \n",
       "80420                         0                      0   \n",
       "80511                         0                      0   \n",
       "80418                         1                      0   \n",
       "\n",
       "       Вид_патология беременности  Вид_роды  Вид_хроническое заболевание  \n",
       "0                               0         0                            0  \n",
       "11                              0         0                            0  \n",
       "9                               0         0                            0  \n",
       "8                               0         0                            0  \n",
       "7                               0         0                            0  \n",
       "...                           ...       ...                          ...  \n",
       "80433                           0         0                            0  \n",
       "80432                           0         0                            0  \n",
       "80420                           0         0                            0  \n",
       "80511                           0         0                            0  \n",
       "80418                           0         0                            0  \n",
       "\n",
       "[166260 rows x 1461 columns]"
      ]
     },
     "execution_count": 111,
     "metadata": {},
     "output_type": "execute_result"
    }
   ],
   "source": [
    "df"
   ]
  },
  {
   "cell_type": "code",
   "execution_count": 112,
   "id": "b1f6b1d4",
   "metadata": {
    "colab": {
     "base_uri": "https://localhost:8080/",
     "height": 194
    },
    "id": "a2d602cb-fce3-40ec-8a6f-3010d8598e0e",
    "outputId": "37f72ec1-ed9a-4855-bc1a-5fd88f813102"
   },
   "outputs": [
    {
     "data": {
      "text/html": [
       "<div>\n",
       "<style scoped>\n",
       "    .dataframe tbody tr th:only-of-type {\n",
       "        vertical-align: middle;\n",
       "    }\n",
       "\n",
       "    .dataframe tbody tr th {\n",
       "        vertical-align: top;\n",
       "    }\n",
       "\n",
       "    .dataframe thead th {\n",
       "        text-align: right;\n",
       "    }\n",
       "</style>\n",
       "<table border=\"1\" class=\"dataframe\">\n",
       "  <thead>\n",
       "    <tr style=\"text-align: right;\">\n",
       "      <th></th>\n",
       "      <th>Диагноз</th>\n",
       "      <th>Результат</th>\n",
       "      <th>Дата</th>\n",
       "      <th>Номер</th>\n",
       "      <th>Возраст</th>\n",
       "      <th>Подстанция</th>\n",
       "      <th>year</th>\n",
       "      <th>month</th>\n",
       "      <th>day</th>\n",
       "      <th>quarter</th>\n",
       "      <th>...</th>\n",
       "      <th>Кто вызвал_сотрудник администрации, ЖЭКа, социальный работник</th>\n",
       "      <th>Кто вызвал_сотрудник полиции</th>\n",
       "      <th>Кто вызвал_средний медицинский работник ЛПУ</th>\n",
       "      <th>Кто вызвал_участковый врач</th>\n",
       "      <th>Вид_внезапное заболевание</th>\n",
       "      <th>Вид_неотложное состояние</th>\n",
       "      <th>Вид_несчастный случай</th>\n",
       "      <th>Вид_патология беременности</th>\n",
       "      <th>Вид_роды</th>\n",
       "      <th>Вид_хроническое заболевание</th>\n",
       "    </tr>\n",
       "  </thead>\n",
       "  <tbody>\n",
       "    <tr>\n",
       "      <th>0</th>\n",
       "      <td>ОРВИ. Гипертермический синдром</td>\n",
       "      <td>оказана помощь, больной оставлен на месте</td>\n",
       "      <td>2020-01-01</td>\n",
       "      <td>8(8)</td>\n",
       "      <td>26</td>\n",
       "      <td>ПСМП №7</td>\n",
       "      <td>2020.0</td>\n",
       "      <td>1.0</td>\n",
       "      <td>1.0</td>\n",
       "      <td>1.0</td>\n",
       "      <td>...</td>\n",
       "      <td>0</td>\n",
       "      <td>0</td>\n",
       "      <td>0</td>\n",
       "      <td>0</td>\n",
       "      <td>0</td>\n",
       "      <td>1</td>\n",
       "      <td>0</td>\n",
       "      <td>0</td>\n",
       "      <td>0</td>\n",
       "      <td>0</td>\n",
       "    </tr>\n",
       "  </tbody>\n",
       "</table>\n",
       "<p>1 rows × 1461 columns</p>\n",
       "</div>"
      ],
      "text/plain": [
       "                          Диагноз                                  Результат  \\\n",
       "0  ОРВИ. Гипертермический синдром  оказана помощь, больной оставлен на месте   \n",
       "\n",
       "        Дата Номер  Возраст Подстанция    year  month  day  quarter  ...  \\\n",
       "0 2020-01-01  8(8)       26    ПСМП №7  2020.0    1.0  1.0      1.0  ...   \n",
       "\n",
       "   Кто вызвал_сотрудник администрации, ЖЭКа, социальный работник  \\\n",
       "0                                                  0               \n",
       "\n",
       "   Кто вызвал_сотрудник полиции  Кто вызвал_средний медицинский работник ЛПУ  \\\n",
       "0                             0                                            0   \n",
       "\n",
       "   Кто вызвал_участковый врач  Вид_внезапное заболевание  \\\n",
       "0                           0                          0   \n",
       "\n",
       "   Вид_неотложное состояние  Вид_несчастный случай  \\\n",
       "0                         1                      0   \n",
       "\n",
       "   Вид_патология беременности  Вид_роды  Вид_хроническое заболевание  \n",
       "0                           0         0                            0  \n",
       "\n",
       "[1 rows x 1461 columns]"
      ]
     },
     "execution_count": 112,
     "metadata": {},
     "output_type": "execute_result"
    }
   ],
   "source": [
    "df.head(1)"
   ]
  },
  {
   "cell_type": "code",
   "execution_count": 113,
   "id": "7b5d5e03",
   "metadata": {
    "id": "fa0b88a8-f19b-46d8-bdc8-66111672245b"
   },
   "outputs": [],
   "source": [
    "df['Дата'] = pd.to_datetime(df['Дата'])\n",
    "df['year'] = df['Дата'].apply(lambda x: x.year)\n",
    "df['month'] = df['Дата'].apply(lambda x: x.month)\n",
    "df['day'] = df['Дата'].apply(lambda x: x.day)\n",
    "df[\"quarter\"] = df[\"Дата\"].dt.quarter\n",
    "df[\"dayofweek\"] = df[\"Дата\"].dt.dayofweek"
   ]
  },
  {
   "cell_type": "code",
   "execution_count": 114,
   "id": "5e05210e",
   "metadata": {
    "colab": {
     "base_uri": "https://localhost:8080/",
     "height": 433
    },
    "id": "T_BP5YvMOkyJ",
    "outputId": "959f92c5-67d8-45b3-e702-2deae1ab4d2f"
   },
   "outputs": [
    {
     "data": {
      "text/html": [
       "<div>\n",
       "<style scoped>\n",
       "    .dataframe tbody tr th:only-of-type {\n",
       "        vertical-align: middle;\n",
       "    }\n",
       "\n",
       "    .dataframe tbody tr th {\n",
       "        vertical-align: top;\n",
       "    }\n",
       "\n",
       "    .dataframe thead th {\n",
       "        text-align: right;\n",
       "    }\n",
       "</style>\n",
       "<table border=\"1\" class=\"dataframe\">\n",
       "  <thead>\n",
       "    <tr style=\"text-align: right;\">\n",
       "      <th></th>\n",
       "      <th>Диагноз</th>\n",
       "      <th>Результат</th>\n",
       "      <th>Дата</th>\n",
       "      <th>Номер</th>\n",
       "      <th>Возраст</th>\n",
       "      <th>Подстанция</th>\n",
       "      <th>year</th>\n",
       "      <th>month</th>\n",
       "      <th>day</th>\n",
       "      <th>quarter</th>\n",
       "      <th>...</th>\n",
       "      <th>Кто вызвал_сотрудник администрации, ЖЭКа, социальный работник</th>\n",
       "      <th>Кто вызвал_сотрудник полиции</th>\n",
       "      <th>Кто вызвал_средний медицинский работник ЛПУ</th>\n",
       "      <th>Кто вызвал_участковый врач</th>\n",
       "      <th>Вид_внезапное заболевание</th>\n",
       "      <th>Вид_неотложное состояние</th>\n",
       "      <th>Вид_несчастный случай</th>\n",
       "      <th>Вид_патология беременности</th>\n",
       "      <th>Вид_роды</th>\n",
       "      <th>Вид_хроническое заболевание</th>\n",
       "    </tr>\n",
       "  </thead>\n",
       "  <tbody>\n",
       "    <tr>\n",
       "      <th>0</th>\n",
       "      <td>ОРВИ. Гипертермический синдром</td>\n",
       "      <td>оказана помощь, больной оставлен на месте</td>\n",
       "      <td>2020-01-01</td>\n",
       "      <td>8(8)</td>\n",
       "      <td>26</td>\n",
       "      <td>ПСМП №7</td>\n",
       "      <td>2020</td>\n",
       "      <td>1</td>\n",
       "      <td>1</td>\n",
       "      <td>1</td>\n",
       "      <td>...</td>\n",
       "      <td>0</td>\n",
       "      <td>0</td>\n",
       "      <td>0</td>\n",
       "      <td>0</td>\n",
       "      <td>0</td>\n",
       "      <td>1</td>\n",
       "      <td>0</td>\n",
       "      <td>0</td>\n",
       "      <td>0</td>\n",
       "      <td>0</td>\n",
       "    </tr>\n",
       "    <tr>\n",
       "      <th>11</th>\n",
       "      <td>ОРВИ. Гипертермический синдром</td>\n",
       "      <td>отказ от транспортировки для госпитализации в ...</td>\n",
       "      <td>2020-01-01</td>\n",
       "      <td>92(92)</td>\n",
       "      <td>7</td>\n",
       "      <td>ПСМП №7</td>\n",
       "      <td>2020</td>\n",
       "      <td>1</td>\n",
       "      <td>1</td>\n",
       "      <td>1</td>\n",
       "      <td>...</td>\n",
       "      <td>0</td>\n",
       "      <td>0</td>\n",
       "      <td>0</td>\n",
       "      <td>0</td>\n",
       "      <td>1</td>\n",
       "      <td>0</td>\n",
       "      <td>0</td>\n",
       "      <td>0</td>\n",
       "      <td>0</td>\n",
       "      <td>0</td>\n",
       "    </tr>\n",
       "    <tr>\n",
       "      <th>9</th>\n",
       "      <td>ОРВИ. Гипертермический синдром</td>\n",
       "      <td>отказ от транспортировки для госпитализации в ...</td>\n",
       "      <td>2020-01-01</td>\n",
       "      <td>77(77)</td>\n",
       "      <td>15</td>\n",
       "      <td>ПСМП №7</td>\n",
       "      <td>2020</td>\n",
       "      <td>1</td>\n",
       "      <td>1</td>\n",
       "      <td>1</td>\n",
       "      <td>...</td>\n",
       "      <td>0</td>\n",
       "      <td>0</td>\n",
       "      <td>0</td>\n",
       "      <td>0</td>\n",
       "      <td>0</td>\n",
       "      <td>1</td>\n",
       "      <td>0</td>\n",
       "      <td>0</td>\n",
       "      <td>0</td>\n",
       "      <td>0</td>\n",
       "    </tr>\n",
       "  </tbody>\n",
       "</table>\n",
       "<p>3 rows × 1461 columns</p>\n",
       "</div>"
      ],
      "text/plain": [
       "                           Диагноз  \\\n",
       "0   ОРВИ. Гипертермический синдром   \n",
       "11  ОРВИ. Гипертермический синдром   \n",
       "9   ОРВИ. Гипертермический синдром   \n",
       "\n",
       "                                            Результат       Дата   Номер  \\\n",
       "0           оказана помощь, больной оставлен на месте 2020-01-01    8(8)   \n",
       "11  отказ от транспортировки для госпитализации в ... 2020-01-01  92(92)   \n",
       "9   отказ от транспортировки для госпитализации в ... 2020-01-01  77(77)   \n",
       "\n",
       "    Возраст Подстанция  year  month  day  quarter  ...  \\\n",
       "0        26    ПСМП №7  2020      1    1        1  ...   \n",
       "11        7    ПСМП №7  2020      1    1        1  ...   \n",
       "9        15    ПСМП №7  2020      1    1        1  ...   \n",
       "\n",
       "    Кто вызвал_сотрудник администрации, ЖЭКа, социальный работник  \\\n",
       "0                                                   0               \n",
       "11                                                  0               \n",
       "9                                                   0               \n",
       "\n",
       "    Кто вызвал_сотрудник полиции  Кто вызвал_средний медицинский работник ЛПУ  \\\n",
       "0                              0                                            0   \n",
       "11                             0                                            0   \n",
       "9                              0                                            0   \n",
       "\n",
       "    Кто вызвал_участковый врач  Вид_внезапное заболевание  \\\n",
       "0                            0                          0   \n",
       "11                           0                          1   \n",
       "9                            0                          0   \n",
       "\n",
       "    Вид_неотложное состояние  Вид_несчастный случай  \\\n",
       "0                          1                      0   \n",
       "11                         0                      0   \n",
       "9                          1                      0   \n",
       "\n",
       "    Вид_патология беременности  Вид_роды  Вид_хроническое заболевание  \n",
       "0                            0         0                            0  \n",
       "11                           0         0                            0  \n",
       "9                            0         0                            0  \n",
       "\n",
       "[3 rows x 1461 columns]"
      ]
     },
     "execution_count": 114,
     "metadata": {},
     "output_type": "execute_result"
    }
   ],
   "source": [
    "df.head(3)"
   ]
  },
  {
   "cell_type": "code",
   "execution_count": null,
   "id": "6306262f",
   "metadata": {},
   "outputs": [],
   "source": [
    "df."
   ]
  },
  {
   "cell_type": "code",
   "execution_count": 115,
   "id": "77e8ddeb",
   "metadata": {},
   "outputs": [],
   "source": [
    "df = df.sort_values(by='Дата')[:-1]"
   ]
  },
  {
   "cell_type": "code",
   "execution_count": 116,
   "id": "fea89341",
   "metadata": {
    "id": "9ee849fa-aa7a-4dee-8aa8-5d118110b79e"
   },
   "outputs": [
    {
     "ename": "TypeError",
     "evalue": "argument of type 'int' is not iterable",
     "output_type": "error",
     "traceback": [
      "\u001b[0;31m---------------------------------------------------------------------------\u001b[0m",
      "\u001b[0;31mTypeError\u001b[0m                                 Traceback (most recent call last)",
      "\u001b[0;32m<ipython-input-116-bbc1c873d19f>\u001b[0m in \u001b[0;36m<module>\u001b[0;34m\u001b[0m\n\u001b[0;32m----> 1\u001b[0;31m \u001b[0mdf\u001b[0m\u001b[0;34m[\u001b[0m\u001b[0;34m'age_type'\u001b[0m\u001b[0;34m]\u001b[0m \u001b[0;34m=\u001b[0m \u001b[0mdf\u001b[0m\u001b[0;34m[\u001b[0m\u001b[0;34m'Возраст'\u001b[0m\u001b[0;34m]\u001b[0m\u001b[0;34m.\u001b[0m\u001b[0mapply\u001b[0m\u001b[0;34m(\u001b[0m\u001b[0;32mlambda\u001b[0m \u001b[0mx\u001b[0m\u001b[0;34m:\u001b[0m \u001b[0;36m1\u001b[0m \u001b[0;32mif\u001b[0m \u001b[0;34m\"лет\"\u001b[0m \u001b[0;32min\u001b[0m \u001b[0mx\u001b[0m \u001b[0;32melse\u001b[0m \u001b[0;36m0\u001b[0m\u001b[0;34m)\u001b[0m\u001b[0;34m\u001b[0m\u001b[0;34m\u001b[0m\u001b[0m\n\u001b[0m\u001b[1;32m      2\u001b[0m \u001b[0mdf\u001b[0m\u001b[0;34m[\u001b[0m\u001b[0;34m'Возраст'\u001b[0m\u001b[0;34m]\u001b[0m \u001b[0;34m=\u001b[0m \u001b[0mdf\u001b[0m\u001b[0;34m[\u001b[0m\u001b[0;34m'Возраст'\u001b[0m\u001b[0;34m]\u001b[0m\u001b[0;34m.\u001b[0m\u001b[0mapply\u001b[0m\u001b[0;34m(\u001b[0m\u001b[0;32mlambda\u001b[0m \u001b[0mx\u001b[0m\u001b[0;34m:\u001b[0m \u001b[0mint\u001b[0m\u001b[0;34m(\u001b[0m\u001b[0mx\u001b[0m\u001b[0;34m.\u001b[0m\u001b[0msplit\u001b[0m\u001b[0;34m(\u001b[0m\u001b[0;34m)\u001b[0m\u001b[0;34m[\u001b[0m\u001b[0;36m0\u001b[0m\u001b[0;34m]\u001b[0m\u001b[0;34m)\u001b[0m \u001b[0;32mif\u001b[0m \u001b[0mx\u001b[0m \u001b[0;34m!=\u001b[0m \u001b[0;34m'-'\u001b[0m \u001b[0;32melse\u001b[0m \u001b[0;36m0\u001b[0m\u001b[0;34m)\u001b[0m\u001b[0;34m\u001b[0m\u001b[0;34m\u001b[0m\u001b[0m\n",
      "\u001b[0;32m~/.local/lib/python3.8/site-packages/pandas/core/series.py\u001b[0m in \u001b[0;36mapply\u001b[0;34m(self, func, convert_dtype, args, **kwds)\u001b[0m\n\u001b[1;32m   4211\u001b[0m             \u001b[0;32melse\u001b[0m\u001b[0;34m:\u001b[0m\u001b[0;34m\u001b[0m\u001b[0;34m\u001b[0m\u001b[0m\n\u001b[1;32m   4212\u001b[0m                 \u001b[0mvalues\u001b[0m \u001b[0;34m=\u001b[0m \u001b[0mself\u001b[0m\u001b[0;34m.\u001b[0m\u001b[0mastype\u001b[0m\u001b[0;34m(\u001b[0m\u001b[0mobject\u001b[0m\u001b[0;34m)\u001b[0m\u001b[0;34m.\u001b[0m\u001b[0m_values\u001b[0m\u001b[0;34m\u001b[0m\u001b[0;34m\u001b[0m\u001b[0m\n\u001b[0;32m-> 4213\u001b[0;31m                 \u001b[0mmapped\u001b[0m \u001b[0;34m=\u001b[0m \u001b[0mlib\u001b[0m\u001b[0;34m.\u001b[0m\u001b[0mmap_infer\u001b[0m\u001b[0;34m(\u001b[0m\u001b[0mvalues\u001b[0m\u001b[0;34m,\u001b[0m \u001b[0mf\u001b[0m\u001b[0;34m,\u001b[0m \u001b[0mconvert\u001b[0m\u001b[0;34m=\u001b[0m\u001b[0mconvert_dtype\u001b[0m\u001b[0;34m)\u001b[0m\u001b[0;34m\u001b[0m\u001b[0;34m\u001b[0m\u001b[0m\n\u001b[0m\u001b[1;32m   4214\u001b[0m \u001b[0;34m\u001b[0m\u001b[0m\n\u001b[1;32m   4215\u001b[0m         \u001b[0;32mif\u001b[0m \u001b[0mlen\u001b[0m\u001b[0;34m(\u001b[0m\u001b[0mmapped\u001b[0m\u001b[0;34m)\u001b[0m \u001b[0;32mand\u001b[0m \u001b[0misinstance\u001b[0m\u001b[0;34m(\u001b[0m\u001b[0mmapped\u001b[0m\u001b[0;34m[\u001b[0m\u001b[0;36m0\u001b[0m\u001b[0;34m]\u001b[0m\u001b[0;34m,\u001b[0m \u001b[0mSeries\u001b[0m\u001b[0;34m)\u001b[0m\u001b[0;34m:\u001b[0m\u001b[0;34m\u001b[0m\u001b[0;34m\u001b[0m\u001b[0m\n",
      "\u001b[0;32mpandas/_libs/lib.pyx\u001b[0m in \u001b[0;36mpandas._libs.lib.map_infer\u001b[0;34m()\u001b[0m\n",
      "\u001b[0;32m<ipython-input-116-bbc1c873d19f>\u001b[0m in \u001b[0;36m<lambda>\u001b[0;34m(x)\u001b[0m\n\u001b[0;32m----> 1\u001b[0;31m \u001b[0mdf\u001b[0m\u001b[0;34m[\u001b[0m\u001b[0;34m'age_type'\u001b[0m\u001b[0;34m]\u001b[0m \u001b[0;34m=\u001b[0m \u001b[0mdf\u001b[0m\u001b[0;34m[\u001b[0m\u001b[0;34m'Возраст'\u001b[0m\u001b[0;34m]\u001b[0m\u001b[0;34m.\u001b[0m\u001b[0mapply\u001b[0m\u001b[0;34m(\u001b[0m\u001b[0;32mlambda\u001b[0m \u001b[0mx\u001b[0m\u001b[0;34m:\u001b[0m \u001b[0;36m1\u001b[0m \u001b[0;32mif\u001b[0m \u001b[0;34m\"лет\"\u001b[0m \u001b[0;32min\u001b[0m \u001b[0mx\u001b[0m \u001b[0;32melse\u001b[0m \u001b[0;36m0\u001b[0m\u001b[0;34m)\u001b[0m\u001b[0;34m\u001b[0m\u001b[0;34m\u001b[0m\u001b[0m\n\u001b[0m\u001b[1;32m      2\u001b[0m \u001b[0mdf\u001b[0m\u001b[0;34m[\u001b[0m\u001b[0;34m'Возраст'\u001b[0m\u001b[0;34m]\u001b[0m \u001b[0;34m=\u001b[0m \u001b[0mdf\u001b[0m\u001b[0;34m[\u001b[0m\u001b[0;34m'Возраст'\u001b[0m\u001b[0;34m]\u001b[0m\u001b[0;34m.\u001b[0m\u001b[0mapply\u001b[0m\u001b[0;34m(\u001b[0m\u001b[0;32mlambda\u001b[0m \u001b[0mx\u001b[0m\u001b[0;34m:\u001b[0m \u001b[0mint\u001b[0m\u001b[0;34m(\u001b[0m\u001b[0mx\u001b[0m\u001b[0;34m.\u001b[0m\u001b[0msplit\u001b[0m\u001b[0;34m(\u001b[0m\u001b[0;34m)\u001b[0m\u001b[0;34m[\u001b[0m\u001b[0;36m0\u001b[0m\u001b[0;34m]\u001b[0m\u001b[0;34m)\u001b[0m \u001b[0;32mif\u001b[0m \u001b[0mx\u001b[0m \u001b[0;34m!=\u001b[0m \u001b[0;34m'-'\u001b[0m \u001b[0;32melse\u001b[0m \u001b[0;36m0\u001b[0m\u001b[0;34m)\u001b[0m\u001b[0;34m\u001b[0m\u001b[0;34m\u001b[0m\u001b[0m\n",
      "\u001b[0;31mTypeError\u001b[0m: argument of type 'int' is not iterable"
     ]
    }
   ],
   "source": [
    "df['age_type'] = df['Возраст'].apply(lambda x: 1 if \"лет\" in x else 0)\n",
    "df['Возраст'] = df['Возраст'].apply(lambda x: int(x.split()[0]) if x != '-' else 0)"
   ]
  },
  {
   "cell_type": "code",
   "execution_count": 67,
   "id": "a88acf06",
   "metadata": {
    "id": "65cea7b1-490d-4f6a-a0f2-6d0bab1e6ad9"
   },
   "outputs": [],
   "source": [
    "df['Принят'] = df['Принят'].astype(str).apply(lambda x: datetime.datetime.strptime(x, '%H:%M') if ':' in x else datetime.datetime.strptime('0:0', '%H:%M'))\n",
    "df['Приезд'] = df['Приезд'].astype(str).apply(lambda x: datetime.datetime.strptime(x, '%H:%M') if ':' in x else datetime.datetime.strptime('0:0', '%H:%M'))\n",
    "df['Время в пути'] = [((x - y).seconds//60)%60 for x, y in zip(df['Приезд'], df['Принят'])]"
   ]
  },
  {
   "cell_type": "code",
   "execution_count": 68,
   "id": "3da50ccf",
   "metadata": {
    "colab": {
     "base_uri": "https://localhost:8080/",
     "height": 378
    },
    "id": "JkFIs9MvWsuT",
    "outputId": "a521abbd-2ae7-4241-9463-fb223824a186"
   },
   "outputs": [
    {
     "data": {
      "text/html": [
       "<div>\n",
       "<style scoped>\n",
       "    .dataframe tbody tr th:only-of-type {\n",
       "        vertical-align: middle;\n",
       "    }\n",
       "\n",
       "    .dataframe tbody tr th {\n",
       "        vertical-align: top;\n",
       "    }\n",
       "\n",
       "    .dataframe thead th {\n",
       "        text-align: right;\n",
       "    }\n",
       "</style>\n",
       "<table border=\"1\" class=\"dataframe\">\n",
       "  <thead>\n",
       "    <tr style=\"text-align: right;\">\n",
       "      <th></th>\n",
       "      <th>Диагноз</th>\n",
       "      <th>Результат</th>\n",
       "      <th>Дата</th>\n",
       "      <th>Адрес</th>\n",
       "      <th>Повод</th>\n",
       "      <th>Доставлен</th>\n",
       "      <th>Принят</th>\n",
       "      <th>Номер</th>\n",
       "      <th>Возраст</th>\n",
       "      <th>Кто вызвал</th>\n",
       "      <th>...</th>\n",
       "      <th>Вид</th>\n",
       "      <th>Подстанция</th>\n",
       "      <th>Приезд</th>\n",
       "      <th>year</th>\n",
       "      <th>month</th>\n",
       "      <th>day</th>\n",
       "      <th>quarter</th>\n",
       "      <th>dayofweek</th>\n",
       "      <th>age_type</th>\n",
       "      <th>Время в пути</th>\n",
       "    </tr>\n",
       "  </thead>\n",
       "  <tbody>\n",
       "    <tr>\n",
       "      <th>0</th>\n",
       "      <td>ОРВИ. Гипертермический синдром</td>\n",
       "      <td>оказана помощь, больной оставлен на месте</td>\n",
       "      <td>2020-01-01</td>\n",
       "      <td>-</td>\n",
       "      <td>Температура, взрослый</td>\n",
       "      <td>ГБУЗ НО \"Городская поликлиника №7\" (ул. Верхне...</td>\n",
       "      <td>1900-01-01 09:46:00</td>\n",
       "      <td>8(8)</td>\n",
       "      <td>26</td>\n",
       "      <td>родственник, проживающий совместно с больным</td>\n",
       "      <td>...</td>\n",
       "      <td>неотложное состояние</td>\n",
       "      <td>ПСМП №7</td>\n",
       "      <td>1900-01-01 09:52:00</td>\n",
       "      <td>2020.0</td>\n",
       "      <td>1.0</td>\n",
       "      <td>1.0</td>\n",
       "      <td>1.0</td>\n",
       "      <td>2.0</td>\n",
       "      <td>1</td>\n",
       "      <td>6</td>\n",
       "    </tr>\n",
       "    <tr>\n",
       "      <th>1</th>\n",
       "      <td>Люмбалгия</td>\n",
       "      <td>оказана помощь, больной оставлен на месте</td>\n",
       "      <td>2020-01-01</td>\n",
       "      <td>г.Нижний Новгород, ш. Казанское, д.9, кв***</td>\n",
       "      <td>Болит живот (взрослый)</td>\n",
       "      <td>ГБУЗ НО \"Городская поликлиника №7\" (ул. Верхне...</td>\n",
       "      <td>1900-01-01 10:56:00</td>\n",
       "      <td>16(16)</td>\n",
       "      <td>68</td>\n",
       "      <td>больной или пострадавший</td>\n",
       "      <td>...</td>\n",
       "      <td>неотложное состояние</td>\n",
       "      <td>ПСМП №7</td>\n",
       "      <td>1900-01-01 10:58:00</td>\n",
       "      <td>2020.0</td>\n",
       "      <td>1.0</td>\n",
       "      <td>1.0</td>\n",
       "      <td>1.0</td>\n",
       "      <td>2.0</td>\n",
       "      <td>1</td>\n",
       "      <td>2</td>\n",
       "    </tr>\n",
       "  </tbody>\n",
       "</table>\n",
       "<p>2 rows × 21 columns</p>\n",
       "</div>"
      ],
      "text/plain": [
       "                          Диагноз                                  Результат  \\\n",
       "0  ОРВИ. Гипертермический синдром  оказана помощь, больной оставлен на месте   \n",
       "1                       Люмбалгия  оказана помощь, больной оставлен на месте   \n",
       "\n",
       "        Дата                                        Адрес  \\\n",
       "0 2020-01-01                                            -   \n",
       "1 2020-01-01  г.Нижний Новгород, ш. Казанское, д.9, кв***   \n",
       "\n",
       "                    Повод                                          Доставлен  \\\n",
       "0   Температура, взрослый  ГБУЗ НО \"Городская поликлиника №7\" (ул. Верхне...   \n",
       "1  Болит живот (взрослый)  ГБУЗ НО \"Городская поликлиника №7\" (ул. Верхне...   \n",
       "\n",
       "               Принят   Номер  Возраст  \\\n",
       "0 1900-01-01 09:46:00    8(8)       26   \n",
       "1 1900-01-01 10:56:00  16(16)       68   \n",
       "\n",
       "                                     Кто вызвал  ...                   Вид  \\\n",
       "0  родственник, проживающий совместно с больным  ...  неотложное состояние   \n",
       "1                      больной или пострадавший  ...  неотложное состояние   \n",
       "\n",
       "  Подстанция              Приезд    year  month  day  quarter  dayofweek  \\\n",
       "0    ПСМП №7 1900-01-01 09:52:00  2020.0    1.0  1.0      1.0        2.0   \n",
       "1    ПСМП №7 1900-01-01 10:58:00  2020.0    1.0  1.0      1.0        2.0   \n",
       "\n",
       "   age_type  Время в пути  \n",
       "0         1             6  \n",
       "1         1             2  \n",
       "\n",
       "[2 rows x 21 columns]"
      ]
     },
     "execution_count": 68,
     "metadata": {},
     "output_type": "execute_result"
    }
   ],
   "source": [
    "df.head(2)"
   ]
  },
  {
   "cell_type": "code",
   "execution_count": 69,
   "id": "400b077c",
   "metadata": {
    "id": "mKYeWZMBfS0e"
   },
   "outputs": [],
   "source": [
    "agg_dict = {}\n",
    "for prefix in ['Диагноз', 'Результат', 'Повод', 'Доставлен', 'Кто вызвал', 'Вид']:\n",
    "    sub_df = pd.get_dummies(df[prefix])\n",
    "    sub_df.columns = [prefix + '_' + c for c in sub_df.columns]\n",
    "    for c in sub_df.columns:\n",
    "        agg_dict[c] = 'median'\n",
    "    df = df.join(sub_df)"
   ]
  },
  {
   "cell_type": "code",
   "execution_count": 70,
   "id": "a0c1d77c",
   "metadata": {
    "colab": {
     "base_uri": "https://localhost:8080/",
     "height": 424
    },
    "id": "-yzfWj0VncQw",
    "outputId": "dc7a46b5-51a6-49d1-b5eb-fce4cd188505"
   },
   "outputs": [
    {
     "data": {
      "text/html": [
       "<div>\n",
       "<style scoped>\n",
       "    .dataframe tbody tr th:only-of-type {\n",
       "        vertical-align: middle;\n",
       "    }\n",
       "\n",
       "    .dataframe tbody tr th {\n",
       "        vertical-align: top;\n",
       "    }\n",
       "\n",
       "    .dataframe thead th {\n",
       "        text-align: right;\n",
       "    }\n",
       "</style>\n",
       "<table border=\"1\" class=\"dataframe\">\n",
       "  <thead>\n",
       "    <tr style=\"text-align: right;\">\n",
       "      <th></th>\n",
       "      <th>Вид_внезапное заболевание</th>\n",
       "      <th>Вид_неотложное состояние</th>\n",
       "      <th>Вид_несчастный случай</th>\n",
       "      <th>Вид_патология беременности</th>\n",
       "      <th>Вид_роды</th>\n",
       "      <th>Вид_хроническое заболевание</th>\n",
       "    </tr>\n",
       "  </thead>\n",
       "  <tbody>\n",
       "    <tr>\n",
       "      <th>0</th>\n",
       "      <td>0</td>\n",
       "      <td>1</td>\n",
       "      <td>0</td>\n",
       "      <td>0</td>\n",
       "      <td>0</td>\n",
       "      <td>0</td>\n",
       "    </tr>\n",
       "    <tr>\n",
       "      <th>1</th>\n",
       "      <td>0</td>\n",
       "      <td>1</td>\n",
       "      <td>0</td>\n",
       "      <td>0</td>\n",
       "      <td>0</td>\n",
       "      <td>0</td>\n",
       "    </tr>\n",
       "    <tr>\n",
       "      <th>2</th>\n",
       "      <td>0</td>\n",
       "      <td>1</td>\n",
       "      <td>0</td>\n",
       "      <td>0</td>\n",
       "      <td>0</td>\n",
       "      <td>0</td>\n",
       "    </tr>\n",
       "    <tr>\n",
       "      <th>3</th>\n",
       "      <td>1</td>\n",
       "      <td>0</td>\n",
       "      <td>0</td>\n",
       "      <td>0</td>\n",
       "      <td>0</td>\n",
       "      <td>0</td>\n",
       "    </tr>\n",
       "    <tr>\n",
       "      <th>4</th>\n",
       "      <td>0</td>\n",
       "      <td>1</td>\n",
       "      <td>0</td>\n",
       "      <td>0</td>\n",
       "      <td>0</td>\n",
       "      <td>0</td>\n",
       "    </tr>\n",
       "    <tr>\n",
       "      <th>...</th>\n",
       "      <td>...</td>\n",
       "      <td>...</td>\n",
       "      <td>...</td>\n",
       "      <td>...</td>\n",
       "      <td>...</td>\n",
       "      <td>...</td>\n",
       "    </tr>\n",
       "    <tr>\n",
       "      <th>166256</th>\n",
       "      <td>0</td>\n",
       "      <td>0</td>\n",
       "      <td>0</td>\n",
       "      <td>0</td>\n",
       "      <td>0</td>\n",
       "      <td>0</td>\n",
       "    </tr>\n",
       "    <tr>\n",
       "      <th>166257</th>\n",
       "      <td>0</td>\n",
       "      <td>0</td>\n",
       "      <td>0</td>\n",
       "      <td>0</td>\n",
       "      <td>0</td>\n",
       "      <td>0</td>\n",
       "    </tr>\n",
       "    <tr>\n",
       "      <th>166258</th>\n",
       "      <td>0</td>\n",
       "      <td>0</td>\n",
       "      <td>0</td>\n",
       "      <td>0</td>\n",
       "      <td>0</td>\n",
       "      <td>0</td>\n",
       "    </tr>\n",
       "    <tr>\n",
       "      <th>166259</th>\n",
       "      <td>0</td>\n",
       "      <td>0</td>\n",
       "      <td>0</td>\n",
       "      <td>0</td>\n",
       "      <td>0</td>\n",
       "      <td>0</td>\n",
       "    </tr>\n",
       "    <tr>\n",
       "      <th>166260</th>\n",
       "      <td>0</td>\n",
       "      <td>0</td>\n",
       "      <td>0</td>\n",
       "      <td>0</td>\n",
       "      <td>0</td>\n",
       "      <td>0</td>\n",
       "    </tr>\n",
       "  </tbody>\n",
       "</table>\n",
       "<p>166261 rows × 6 columns</p>\n",
       "</div>"
      ],
      "text/plain": [
       "        Вид_внезапное заболевание  Вид_неотложное состояние  \\\n",
       "0                               0                         1   \n",
       "1                               0                         1   \n",
       "2                               0                         1   \n",
       "3                               1                         0   \n",
       "4                               0                         1   \n",
       "...                           ...                       ...   \n",
       "166256                          0                         0   \n",
       "166257                          0                         0   \n",
       "166258                          0                         0   \n",
       "166259                          0                         0   \n",
       "166260                          0                         0   \n",
       "\n",
       "        Вид_несчастный случай  Вид_патология беременности  Вид_роды  \\\n",
       "0                           0                           0         0   \n",
       "1                           0                           0         0   \n",
       "2                           0                           0         0   \n",
       "3                           0                           0         0   \n",
       "4                           0                           0         0   \n",
       "...                       ...                         ...       ...   \n",
       "166256                      0                           0         0   \n",
       "166257                      0                           0         0   \n",
       "166258                      0                           0         0   \n",
       "166259                      0                           0         0   \n",
       "166260                      0                           0         0   \n",
       "\n",
       "        Вид_хроническое заболевание  \n",
       "0                                 0  \n",
       "1                                 0  \n",
       "2                                 0  \n",
       "3                                 0  \n",
       "4                                 0  \n",
       "...                             ...  \n",
       "166256                            0  \n",
       "166257                            0  \n",
       "166258                            0  \n",
       "166259                            0  \n",
       "166260                            0  \n",
       "\n",
       "[166261 rows x 6 columns]"
      ]
     },
     "execution_count": 70,
     "metadata": {},
     "output_type": "execute_result"
    }
   ],
   "source": [
    "sub_df"
   ]
  },
  {
   "cell_type": "code",
   "execution_count": 71,
   "id": "02ddd3e2",
   "metadata": {
    "id": "CdB2_dH0fTfK"
   },
   "outputs": [],
   "source": [
    "agg_dict['Диагноз'] = ' '.join\n",
    "agg_dict['Результат'] = ' '.join\n",
    "agg_dict['Номер'] = 'count'\n",
    "agg_dict['Возраст'] = 'median'\n",
    "agg_dict['Время в пути'] = 'median'\n",
    "agg_dict['age_type'] = 'median'"
   ]
  },
  {
   "cell_type": "code",
   "execution_count": 72,
   "id": "068ac4ca",
   "metadata": {
    "id": "92375dc6-8d36-4f05-81e3-b8fd57c24b28"
   },
   "outputs": [],
   "source": [
    "df.drop(columns=['Адрес', 'Повод', 'Доставлен', 'Принят',\n",
    "                 'Кто вызвал', 'Вызов', 'Вид', 'Приезд'], inplace=True)"
   ]
  },
  {
   "cell_type": "code",
   "execution_count": 73,
   "id": "d58234bf",
   "metadata": {
    "id": "60535b9d-e13c-4609-ad24-0474671e17d4"
   },
   "outputs": [],
   "source": [
    "df = df.fillna('')"
   ]
  },
  {
   "cell_type": "code",
   "execution_count": 74,
   "id": "0094d05c",
   "metadata": {
    "id": "4f179930-d38e-4f9b-8a63-469420eb7b17",
    "tags": []
   },
   "outputs": [],
   "source": [
    "group_df = df.groupby(['Дата', 'year', 'month', 'day',\n",
    "                       'Подстанция', 'quarter', 'dayofweek']).agg(agg_dict)"
   ]
  },
  {
   "cell_type": "code",
   "execution_count": 75,
   "id": "66cce52f",
   "metadata": {
    "id": "d9c919d9-8a76-4edb-9578-af34d6db0af1"
   },
   "outputs": [],
   "source": [
    "group_df = group_df.reset_index()"
   ]
  },
  {
   "cell_type": "code",
   "execution_count": 76,
   "id": "1217cfa8",
   "metadata": {
    "colab": {
     "base_uri": "https://localhost:8080/"
    },
    "id": "fae40d13-f372-487b-b7b7-109f7fa4a815",
    "outputId": "b11c144e-561c-4637-d0c2-80007438329d"
   },
   "outputs": [
    {
     "data": {
      "text/plain": [
       "(4794, 171, 405)"
      ]
     },
     "execution_count": 76,
     "metadata": {},
     "output_type": "execute_result"
    }
   ],
   "source": [
    "with open(\"calendar.json\", \"r\") as f:\n",
    "    nowork_days = json.load(f)\n",
    "\n",
    "group_df[\"holidays\"] = group_df[\"Дата\"].isin(nowork_days[\"holidays\"])\n",
    "group_df[\"preholidays\"] = group_df[\"Дата\"].isin(nowork_days[\"preholidays\"])\n",
    "group_df[\"nowork\"] = group_df[\"Дата\"].isin(nowork_days[\"nowork\"])\n",
    "\n",
    "group_df[\"holidays\"].sum(), group_df[\"preholidays\"].sum(), group_df[\"nowork\"].sum()"
   ]
  },
  {
   "cell_type": "code",
   "execution_count": 77,
   "id": "33cf86d7",
   "metadata": {
    "id": "ee7118de-ea6f-404b-9d35-6f94b041874f"
   },
   "outputs": [],
   "source": [
    "group_df.rename(columns={'Номер': \"Загруженность\"}, inplace=True)"
   ]
  },
  {
   "cell_type": "code",
   "execution_count": 78,
   "id": "0296c6c4",
   "metadata": {
    "id": "8898594e-fd82-4251-9298-c29f77df1de8"
   },
   "outputs": [],
   "source": [
    "season_dict = {1: 'Зима', 2: 'Зима', 3: 'Весна', 4: 'Весна', 5: 'Весна', 6: 'Лето', 7: 'Лето', 8: 'Лето', 9: 'Осень', 10: 'Осень', 11: 'Осень', 12: 'Зима'}\n",
    "group_df['Сезон'] = group_df['month'].apply(lambda x: season_dict[x] if x != '' else 'unk')"
   ]
  },
  {
   "cell_type": "code",
   "execution_count": 79,
   "id": "9143af24",
   "metadata": {
    "id": "od6P2z0tiqzd"
   },
   "outputs": [],
   "source": [
    "group_df = group_df.merge(weather, on=\"Дата\", how=\"left\")"
   ]
  },
  {
   "cell_type": "code",
   "execution_count": 24,
   "id": "0f59cc65",
   "metadata": {
    "id": "32c008ea-5274-4958-8bde-dff951a40215"
   },
   "outputs": [],
   "source": [
    "#group_df.to_csv('group_data.csv', index=False)"
   ]
  },
  {
   "cell_type": "code",
   "execution_count": 80,
   "id": "37106ee3",
   "metadata": {
    "id": "32c672f3-a79f-43c5-99e8-4aab4b580632"
   },
   "outputs": [],
   "source": [
    "from catboost import CatBoostRegressor, CatBoostClassifier\n",
    "from sklearn.model_selection import train_test_split"
   ]
  },
  {
   "cell_type": "code",
   "execution_count": 81,
   "id": "02f8e85d",
   "metadata": {
    "id": "70bc5510-8d4f-4079-9b87-f8d96c06ecfa"
   },
   "outputs": [],
   "source": [
    "X = group_df.drop(columns=['Загруженность'])\n",
    "y = group_df['Загруженность']\n",
    "# X = group_df[['year', 'month', 'day', 'Подстанция', 'Зима', 'Весна', 'Лето', 'Осень']]\n",
    "# y = group_df['Загруженность']"
   ]
  },
  {
   "cell_type": "code",
   "execution_count": 84,
   "id": "2b304389",
   "metadata": {
    "id": "qM5Kn2sJpmTD"
   },
   "outputs": [],
   "source": [
    "X['quarter'] = X['quarter'].replace({'': -1})\n",
    "X[\"quarter\"] = X[\"quarter\"].astype(np.int32)\n",
    "X['dayofweek'] = X['dayofweek'].replace({'': -1})\n",
    "X[\"dayofweek\"] = X[\"dayofweek\"].astype(np.int32)"
   ]
  },
  {
   "cell_type": "code",
   "execution_count": 85,
   "id": "b19f964f",
   "metadata": {
    "id": "74219bd4-48ca-4951-879c-b0889d5b8c35"
   },
   "outputs": [],
   "source": [
    "X_train, X_val, y_train, y_val = train_test_split(X, y, test_size=0.05, random_state=42, shuffle=False)"
   ]
  },
  {
   "cell_type": "code",
   "execution_count": 86,
   "id": "8bb85000",
   "metadata": {
    "id": "8rVcAvl9V8M9"
   },
   "outputs": [],
   "source": [
    "# columns = ['Дата', 'holidays', 'preholidays', 'nowork', 'Сезон']"
   ]
  },
  {
   "cell_type": "code",
   "execution_count": 87,
   "id": "2be3c48f",
   "metadata": {
    "id": "1MArJheCmHxS"
   },
   "outputs": [],
   "source": [
    "X_train, X_val = X_train.drop(['Диагноз', \"Результат\"], axis=1), X_val.drop(['Диагноз', \"Результат\"], axis=1)"
   ]
  },
  {
   "cell_type": "code",
   "execution_count": 88,
   "id": "e4f5e83c",
   "metadata": {
    "id": "3HZcCtq_Wijt"
   },
   "outputs": [],
   "source": [
    "# X_train, X_val = X_train[columns], X_val[columns]"
   ]
  },
  {
   "cell_type": "code",
   "execution_count": 89,
   "id": "6d941a52",
   "metadata": {
    "colab": {
     "base_uri": "https://localhost:8080/"
    },
    "id": "KgDC0Rywl4yd",
    "outputId": "edcf9340-7c6a-444e-81bd-00304477b527"
   },
   "outputs": [
    {
     "data": {
      "text/plain": [
       "730"
      ]
     },
     "execution_count": 89,
     "metadata": {},
     "output_type": "execute_result"
    }
   ],
   "source": [
    "len(y_val)"
   ]
  },
  {
   "cell_type": "code",
   "execution_count": 90,
   "id": "d0452f2c",
   "metadata": {
    "id": "0fc23ad1-7d72-4748-b71e-27f398a3f80b"
   },
   "outputs": [],
   "source": [
    "reg = CatBoostRegressor(loss_function='RMSE',\n",
    "                        task_type='GPU',\n",
    "                        verbose=10,\n",
    "                        iterations=1000,\n",
    "                        random_seed=42)"
   ]
  },
  {
   "cell_type": "code",
   "execution_count": 92,
   "id": "7c50e4da",
   "metadata": {},
   "outputs": [
    {
     "data": {
      "text/html": [
       "<div>\n",
       "<style scoped>\n",
       "    .dataframe tbody tr th:only-of-type {\n",
       "        vertical-align: middle;\n",
       "    }\n",
       "\n",
       "    .dataframe tbody tr th {\n",
       "        vertical-align: top;\n",
       "    }\n",
       "\n",
       "    .dataframe thead th {\n",
       "        text-align: right;\n",
       "    }\n",
       "</style>\n",
       "<table border=\"1\" class=\"dataframe\">\n",
       "  <thead>\n",
       "    <tr style=\"text-align: right;\">\n",
       "      <th></th>\n",
       "      <th>Дата</th>\n",
       "      <th>year</th>\n",
       "      <th>month</th>\n",
       "      <th>day</th>\n",
       "      <th>Подстанция</th>\n",
       "      <th>quarter</th>\n",
       "      <th>dayofweek</th>\n",
       "      <th>Диагноз_ Ангионевротический отек</th>\n",
       "      <th>Диагноз_ Пневмония неуточненная</th>\n",
       "      <th>Диагноз_-</th>\n",
       "      <th>...</th>\n",
       "      <th>Время в пути</th>\n",
       "      <th>age_type</th>\n",
       "      <th>holidays</th>\n",
       "      <th>preholidays</th>\n",
       "      <th>nowork</th>\n",
       "      <th>Сезон</th>\n",
       "      <th>temp</th>\n",
       "      <th>wet</th>\n",
       "      <th>p</th>\n",
       "      <th>wind</th>\n",
       "    </tr>\n",
       "  </thead>\n",
       "  <tbody>\n",
       "    <tr>\n",
       "      <th>0</th>\n",
       "      <td>2020-01-01</td>\n",
       "      <td>2020</td>\n",
       "      <td>1</td>\n",
       "      <td>1</td>\n",
       "      <td>ПСМП №7</td>\n",
       "      <td>1</td>\n",
       "      <td>2</td>\n",
       "      <td>0</td>\n",
       "      <td>0.0</td>\n",
       "      <td>0.0</td>\n",
       "      <td>...</td>\n",
       "      <td>10.0</td>\n",
       "      <td>1.0</td>\n",
       "      <td>True</td>\n",
       "      <td>False</td>\n",
       "      <td>False</td>\n",
       "      <td>Зима</td>\n",
       "      <td>-3.86</td>\n",
       "      <td>93.71</td>\n",
       "      <td>744.0</td>\n",
       "      <td>3.0</td>\n",
       "    </tr>\n",
       "    <tr>\n",
       "      <th>1</th>\n",
       "      <td>2020-01-02</td>\n",
       "      <td>2020</td>\n",
       "      <td>1</td>\n",
       "      <td>2</td>\n",
       "      <td>ПСМП №7</td>\n",
       "      <td>1</td>\n",
       "      <td>3</td>\n",
       "      <td>0</td>\n",
       "      <td>0.0</td>\n",
       "      <td>0.0</td>\n",
       "      <td>...</td>\n",
       "      <td>11.0</td>\n",
       "      <td>1.0</td>\n",
       "      <td>True</td>\n",
       "      <td>False</td>\n",
       "      <td>False</td>\n",
       "      <td>Зима</td>\n",
       "      <td>-2.57</td>\n",
       "      <td>92.29</td>\n",
       "      <td>749.0</td>\n",
       "      <td>3.0</td>\n",
       "    </tr>\n",
       "    <tr>\n",
       "      <th>2</th>\n",
       "      <td>2020-01-03</td>\n",
       "      <td>2020</td>\n",
       "      <td>1</td>\n",
       "      <td>3</td>\n",
       "      <td>ПСМП №7</td>\n",
       "      <td>1</td>\n",
       "      <td>4</td>\n",
       "      <td>0</td>\n",
       "      <td>0.0</td>\n",
       "      <td>0.0</td>\n",
       "      <td>...</td>\n",
       "      <td>12.0</td>\n",
       "      <td>1.0</td>\n",
       "      <td>True</td>\n",
       "      <td>False</td>\n",
       "      <td>False</td>\n",
       "      <td>Зима</td>\n",
       "      <td>0.86</td>\n",
       "      <td>92.00</td>\n",
       "      <td>749.0</td>\n",
       "      <td>6.0</td>\n",
       "    </tr>\n",
       "    <tr>\n",
       "      <th>3</th>\n",
       "      <td>2020-01-04</td>\n",
       "      <td>2020</td>\n",
       "      <td>1</td>\n",
       "      <td>4</td>\n",
       "      <td>ПСМП №7</td>\n",
       "      <td>1</td>\n",
       "      <td>5</td>\n",
       "      <td>0</td>\n",
       "      <td>0.0</td>\n",
       "      <td>0.0</td>\n",
       "      <td>...</td>\n",
       "      <td>14.0</td>\n",
       "      <td>1.0</td>\n",
       "      <td>True</td>\n",
       "      <td>False</td>\n",
       "      <td>False</td>\n",
       "      <td>Зима</td>\n",
       "      <td>-1.14</td>\n",
       "      <td>88.14</td>\n",
       "      <td>744.0</td>\n",
       "      <td>6.0</td>\n",
       "    </tr>\n",
       "    <tr>\n",
       "      <th>4</th>\n",
       "      <td>2020-01-05</td>\n",
       "      <td>2020</td>\n",
       "      <td>1</td>\n",
       "      <td>5</td>\n",
       "      <td>ПСМП №7</td>\n",
       "      <td>1</td>\n",
       "      <td>6</td>\n",
       "      <td>0</td>\n",
       "      <td>0.0</td>\n",
       "      <td>0.0</td>\n",
       "      <td>...</td>\n",
       "      <td>11.5</td>\n",
       "      <td>1.0</td>\n",
       "      <td>True</td>\n",
       "      <td>False</td>\n",
       "      <td>False</td>\n",
       "      <td>Зима</td>\n",
       "      <td>-0.71</td>\n",
       "      <td>87.43</td>\n",
       "      <td>750.0</td>\n",
       "      <td>4.0</td>\n",
       "    </tr>\n",
       "    <tr>\n",
       "      <th>...</th>\n",
       "      <td>...</td>\n",
       "      <td>...</td>\n",
       "      <td>...</td>\n",
       "      <td>...</td>\n",
       "      <td>...</td>\n",
       "      <td>...</td>\n",
       "      <td>...</td>\n",
       "      <td>...</td>\n",
       "      <td>...</td>\n",
       "      <td>...</td>\n",
       "      <td>...</td>\n",
       "      <td>...</td>\n",
       "      <td>...</td>\n",
       "      <td>...</td>\n",
       "      <td>...</td>\n",
       "      <td>...</td>\n",
       "      <td>...</td>\n",
       "      <td>...</td>\n",
       "      <td>...</td>\n",
       "      <td>...</td>\n",
       "      <td>...</td>\n",
       "    </tr>\n",
       "    <tr>\n",
       "      <th>13857</th>\n",
       "      <td>2022-04-27</td>\n",
       "      <td>2022</td>\n",
       "      <td>4</td>\n",
       "      <td>27</td>\n",
       "      <td>Володарская ЦРБ Ильиногорская</td>\n",
       "      <td>2</td>\n",
       "      <td>2</td>\n",
       "      <td>0</td>\n",
       "      <td>0.0</td>\n",
       "      <td>0.0</td>\n",
       "      <td>...</td>\n",
       "      <td>12.0</td>\n",
       "      <td>1.0</td>\n",
       "      <td>False</td>\n",
       "      <td>False</td>\n",
       "      <td>False</td>\n",
       "      <td>Весна</td>\n",
       "      <td>9.25</td>\n",
       "      <td>79.63</td>\n",
       "      <td>744.0</td>\n",
       "      <td>3.0</td>\n",
       "    </tr>\n",
       "    <tr>\n",
       "      <th>13858</th>\n",
       "      <td>2022-04-27</td>\n",
       "      <td>2022</td>\n",
       "      <td>4</td>\n",
       "      <td>27</td>\n",
       "      <td>Выксунская ЦРБ</td>\n",
       "      <td>2</td>\n",
       "      <td>2</td>\n",
       "      <td>0</td>\n",
       "      <td>0.0</td>\n",
       "      <td>0.0</td>\n",
       "      <td>...</td>\n",
       "      <td>8.0</td>\n",
       "      <td>1.0</td>\n",
       "      <td>False</td>\n",
       "      <td>False</td>\n",
       "      <td>False</td>\n",
       "      <td>Весна</td>\n",
       "      <td>9.25</td>\n",
       "      <td>79.63</td>\n",
       "      <td>744.0</td>\n",
       "      <td>3.0</td>\n",
       "    </tr>\n",
       "    <tr>\n",
       "      <th>13859</th>\n",
       "      <td>2022-04-27</td>\n",
       "      <td>2022</td>\n",
       "      <td>4</td>\n",
       "      <td>27</td>\n",
       "      <td>Городецкая ЦРБ</td>\n",
       "      <td>2</td>\n",
       "      <td>2</td>\n",
       "      <td>0</td>\n",
       "      <td>0.0</td>\n",
       "      <td>0.0</td>\n",
       "      <td>...</td>\n",
       "      <td>8.0</td>\n",
       "      <td>1.0</td>\n",
       "      <td>False</td>\n",
       "      <td>False</td>\n",
       "      <td>False</td>\n",
       "      <td>Весна</td>\n",
       "      <td>9.25</td>\n",
       "      <td>79.63</td>\n",
       "      <td>744.0</td>\n",
       "      <td>3.0</td>\n",
       "    </tr>\n",
       "    <tr>\n",
       "      <th>13860</th>\n",
       "      <td>2022-04-27</td>\n",
       "      <td>2022</td>\n",
       "      <td>4</td>\n",
       "      <td>27</td>\n",
       "      <td>Кстовская ЦРБ</td>\n",
       "      <td>2</td>\n",
       "      <td>2</td>\n",
       "      <td>0</td>\n",
       "      <td>0.0</td>\n",
       "      <td>0.0</td>\n",
       "      <td>...</td>\n",
       "      <td>14.0</td>\n",
       "      <td>1.0</td>\n",
       "      <td>False</td>\n",
       "      <td>False</td>\n",
       "      <td>False</td>\n",
       "      <td>Весна</td>\n",
       "      <td>9.25</td>\n",
       "      <td>79.63</td>\n",
       "      <td>744.0</td>\n",
       "      <td>3.0</td>\n",
       "    </tr>\n",
       "    <tr>\n",
       "      <th>13861</th>\n",
       "      <td>2022-04-27</td>\n",
       "      <td>2022</td>\n",
       "      <td>4</td>\n",
       "      <td>27</td>\n",
       "      <td>Кулебакская ЦРБ</td>\n",
       "      <td>2</td>\n",
       "      <td>2</td>\n",
       "      <td>0</td>\n",
       "      <td>0.0</td>\n",
       "      <td>0.0</td>\n",
       "      <td>...</td>\n",
       "      <td>8.5</td>\n",
       "      <td>1.0</td>\n",
       "      <td>False</td>\n",
       "      <td>False</td>\n",
       "      <td>False</td>\n",
       "      <td>Весна</td>\n",
       "      <td>9.25</td>\n",
       "      <td>79.63</td>\n",
       "      <td>744.0</td>\n",
       "      <td>3.0</td>\n",
       "    </tr>\n",
       "  </tbody>\n",
       "</table>\n",
       "<p>13862 rows × 1466 columns</p>\n",
       "</div>"
      ],
      "text/plain": [
       "            Дата  year month day                     Подстанция  quarter  \\\n",
       "0     2020-01-01  2020     1   1                        ПСМП №7        1   \n",
       "1     2020-01-02  2020     1   2                        ПСМП №7        1   \n",
       "2     2020-01-03  2020     1   3                        ПСМП №7        1   \n",
       "3     2020-01-04  2020     1   4                        ПСМП №7        1   \n",
       "4     2020-01-05  2020     1   5                        ПСМП №7        1   \n",
       "...          ...   ...   ...  ..                            ...      ...   \n",
       "13857 2022-04-27  2022     4  27  Володарская ЦРБ Ильиногорская        2   \n",
       "13858 2022-04-27  2022     4  27                 Выксунская ЦРБ        2   \n",
       "13859 2022-04-27  2022     4  27                 Городецкая ЦРБ        2   \n",
       "13860 2022-04-27  2022     4  27                  Кстовская ЦРБ        2   \n",
       "13861 2022-04-27  2022     4  27                Кулебакская ЦРБ        2   \n",
       "\n",
       "       dayofweek  Диагноз_ Ангионевротический отек  \\\n",
       "0              2                                 0   \n",
       "1              3                                 0   \n",
       "2              4                                 0   \n",
       "3              5                                 0   \n",
       "4              6                                 0   \n",
       "...          ...                               ...   \n",
       "13857          2                                 0   \n",
       "13858          2                                 0   \n",
       "13859          2                                 0   \n",
       "13860          2                                 0   \n",
       "13861          2                                 0   \n",
       "\n",
       "       Диагноз_ Пневмония неуточненная  Диагноз_-  ...  Время в пути  \\\n",
       "0                                  0.0        0.0  ...          10.0   \n",
       "1                                  0.0        0.0  ...          11.0   \n",
       "2                                  0.0        0.0  ...          12.0   \n",
       "3                                  0.0        0.0  ...          14.0   \n",
       "4                                  0.0        0.0  ...          11.5   \n",
       "...                                ...        ...  ...           ...   \n",
       "13857                              0.0        0.0  ...          12.0   \n",
       "13858                              0.0        0.0  ...           8.0   \n",
       "13859                              0.0        0.0  ...           8.0   \n",
       "13860                              0.0        0.0  ...          14.0   \n",
       "13861                              0.0        0.0  ...           8.5   \n",
       "\n",
       "       age_type  holidays  preholidays  nowork  Сезон  temp    wet      p  \\\n",
       "0           1.0      True        False   False   Зима -3.86  93.71  744.0   \n",
       "1           1.0      True        False   False   Зима -2.57  92.29  749.0   \n",
       "2           1.0      True        False   False   Зима  0.86  92.00  749.0   \n",
       "3           1.0      True        False   False   Зима -1.14  88.14  744.0   \n",
       "4           1.0      True        False   False   Зима -0.71  87.43  750.0   \n",
       "...         ...       ...          ...     ...    ...   ...    ...    ...   \n",
       "13857       1.0     False        False   False  Весна  9.25  79.63  744.0   \n",
       "13858       1.0     False        False   False  Весна  9.25  79.63  744.0   \n",
       "13859       1.0     False        False   False  Весна  9.25  79.63  744.0   \n",
       "13860       1.0     False        False   False  Весна  9.25  79.63  744.0   \n",
       "13861       1.0     False        False   False  Весна  9.25  79.63  744.0   \n",
       "\n",
       "       wind  \n",
       "0       3.0  \n",
       "1       3.0  \n",
       "2       6.0  \n",
       "3       6.0  \n",
       "4       4.0  \n",
       "...     ...  \n",
       "13857   3.0  \n",
       "13858   3.0  \n",
       "13859   3.0  \n",
       "13860   3.0  \n",
       "13861   3.0  \n",
       "\n",
       "[13862 rows x 1466 columns]"
      ]
     },
     "execution_count": 92,
     "metadata": {},
     "output_type": "execute_result"
    }
   ],
   "source": [
    "X_train"
   ]
  },
  {
   "cell_type": "code",
   "execution_count": 91,
   "id": "008f9901",
   "metadata": {
    "colab": {
     "base_uri": "https://localhost:8080/"
    },
    "id": "7e8eb175-f3ba-4043-b929-f7f18cc9b9cd",
    "outputId": "0d522251-0733-44a9-c64e-98bd80e328b4"
   },
   "outputs": [
    {
     "ename": "CatBoostError",
     "evalue": "Bad value for num_feature[non_default_doc_idx=729,feature_idx=0]=\"NaT\": Cannot convert obj NaT to float",
     "output_type": "error",
     "traceback": [
      "\u001b[0;31m---------------------------------------------------------------------------\u001b[0m",
      "\u001b[0;31mTypeError\u001b[0m                                 Traceback (most recent call last)",
      "\u001b[0;32m_catboost.pyx\u001b[0m in \u001b[0;36m_catboost._FloatOrNan\u001b[0;34m()\u001b[0m\n",
      "\u001b[0;31mTypeError\u001b[0m: float() argument must be a string or a number, not 'NoneType'",
      "\nDuring handling of the above exception, another exception occurred:\n",
      "\u001b[0;31mTypeError\u001b[0m                                 Traceback (most recent call last)",
      "\u001b[0;32m_catboost.pyx\u001b[0m in \u001b[0;36m_catboost.get_float_feature\u001b[0;34m()\u001b[0m\n",
      "\u001b[0;32m_catboost.pyx\u001b[0m in \u001b[0;36m_catboost._FloatOrNan\u001b[0;34m()\u001b[0m\n",
      "\u001b[0;31mTypeError\u001b[0m: Cannot convert obj NaT to float",
      "\nDuring handling of the above exception, another exception occurred:\n",
      "\u001b[0;31mCatBoostError\u001b[0m                             Traceback (most recent call last)",
      "\u001b[0;32m<ipython-input-91-22df5b9aa7ce>\u001b[0m in \u001b[0;36m<module>\u001b[0;34m\u001b[0m\n\u001b[0;32m----> 1\u001b[0;31m reg.fit(X_train, y_train, eval_set=(X_val, y_val),\n\u001b[0m\u001b[1;32m      2\u001b[0m         cat_features=['Подстанция', 'Сезон',\n\u001b[1;32m      3\u001b[0m                       'quarter', 'dayofweek'],)\n\u001b[1;32m      4\u001b[0m         \u001b[0;31m#text_features=['Диагноз', \"Результат\"])\u001b[0m\u001b[0;34m\u001b[0m\u001b[0;34m\u001b[0m\u001b[0;34m\u001b[0m\u001b[0m\n",
      "\u001b[0;32m~/.local/lib/python3.8/site-packages/catboost/core.py\u001b[0m in \u001b[0;36mfit\u001b[0;34m(self, X, y, cat_features, sample_weight, baseline, use_best_model, eval_set, verbose, logging_level, plot, column_description, verbose_eval, metric_period, silent, early_stopping_rounds, save_snapshot, snapshot_file, snapshot_interval, init_model, callbacks, log_cout, log_cerr)\u001b[0m\n\u001b[1;32m   5502\u001b[0m             \u001b[0mCatBoostRegressor\u001b[0m\u001b[0;34m.\u001b[0m\u001b[0m_check_is_compatible_loss\u001b[0m\u001b[0;34m(\u001b[0m\u001b[0mparams\u001b[0m\u001b[0;34m[\u001b[0m\u001b[0;34m'loss_function'\u001b[0m\u001b[0;34m]\u001b[0m\u001b[0;34m)\u001b[0m\u001b[0;34m\u001b[0m\u001b[0;34m\u001b[0m\u001b[0m\n\u001b[1;32m   5503\u001b[0m \u001b[0;34m\u001b[0m\u001b[0m\n\u001b[0;32m-> 5504\u001b[0;31m         return self._fit(X, y, cat_features, None, None, None, sample_weight, None, None, None, None, baseline,\n\u001b[0m\u001b[1;32m   5505\u001b[0m                          \u001b[0muse_best_model\u001b[0m\u001b[0;34m,\u001b[0m \u001b[0meval_set\u001b[0m\u001b[0;34m,\u001b[0m \u001b[0mverbose\u001b[0m\u001b[0;34m,\u001b[0m \u001b[0mlogging_level\u001b[0m\u001b[0;34m,\u001b[0m \u001b[0mplot\u001b[0m\u001b[0;34m,\u001b[0m \u001b[0mcolumn_description\u001b[0m\u001b[0;34m,\u001b[0m\u001b[0;34m\u001b[0m\u001b[0;34m\u001b[0m\u001b[0m\n\u001b[1;32m   5506\u001b[0m                          \u001b[0mverbose_eval\u001b[0m\u001b[0;34m,\u001b[0m \u001b[0mmetric_period\u001b[0m\u001b[0;34m,\u001b[0m \u001b[0msilent\u001b[0m\u001b[0;34m,\u001b[0m \u001b[0mearly_stopping_rounds\u001b[0m\u001b[0;34m,\u001b[0m\u001b[0;34m\u001b[0m\u001b[0;34m\u001b[0m\u001b[0m\n",
      "\u001b[0;32m~/.local/lib/python3.8/site-packages/catboost/core.py\u001b[0m in \u001b[0;36m_fit\u001b[0;34m(self, X, y, cat_features, text_features, embedding_features, pairs, sample_weight, group_id, group_weight, subgroup_id, pairs_weight, baseline, use_best_model, eval_set, verbose, logging_level, plot, column_description, verbose_eval, metric_period, silent, early_stopping_rounds, save_snapshot, snapshot_file, snapshot_interval, init_model, callbacks, log_cout, log_cerr)\u001b[0m\n\u001b[1;32m   2174\u001b[0m             \u001b[0;32mraise\u001b[0m \u001b[0mCatBoostError\u001b[0m\u001b[0;34m(\u001b[0m\u001b[0;34m\"y may be None only when X is an instance of catboost.Pool or string\"\u001b[0m\u001b[0;34m)\u001b[0m\u001b[0;34m\u001b[0m\u001b[0;34m\u001b[0m\u001b[0m\n\u001b[1;32m   2175\u001b[0m \u001b[0;34m\u001b[0m\u001b[0m\n\u001b[0;32m-> 2176\u001b[0;31m         train_params = self._prepare_train_params(\n\u001b[0m\u001b[1;32m   2177\u001b[0m             \u001b[0mX\u001b[0m\u001b[0;34m=\u001b[0m\u001b[0mX\u001b[0m\u001b[0;34m,\u001b[0m \u001b[0my\u001b[0m\u001b[0;34m=\u001b[0m\u001b[0my\u001b[0m\u001b[0;34m,\u001b[0m \u001b[0mcat_features\u001b[0m\u001b[0;34m=\u001b[0m\u001b[0mcat_features\u001b[0m\u001b[0;34m,\u001b[0m \u001b[0mtext_features\u001b[0m\u001b[0;34m=\u001b[0m\u001b[0mtext_features\u001b[0m\u001b[0;34m,\u001b[0m \u001b[0membedding_features\u001b[0m\u001b[0;34m=\u001b[0m\u001b[0membedding_features\u001b[0m\u001b[0;34m,\u001b[0m\u001b[0;34m\u001b[0m\u001b[0;34m\u001b[0m\u001b[0m\n\u001b[1;32m   2178\u001b[0m             \u001b[0mpairs\u001b[0m\u001b[0;34m=\u001b[0m\u001b[0mpairs\u001b[0m\u001b[0;34m,\u001b[0m \u001b[0msample_weight\u001b[0m\u001b[0;34m=\u001b[0m\u001b[0msample_weight\u001b[0m\u001b[0;34m,\u001b[0m \u001b[0mgroup_id\u001b[0m\u001b[0;34m=\u001b[0m\u001b[0mgroup_id\u001b[0m\u001b[0;34m,\u001b[0m \u001b[0mgroup_weight\u001b[0m\u001b[0;34m=\u001b[0m\u001b[0mgroup_weight\u001b[0m\u001b[0;34m,\u001b[0m\u001b[0;34m\u001b[0m\u001b[0;34m\u001b[0m\u001b[0m\n",
      "\u001b[0;32m~/.local/lib/python3.8/site-packages/catboost/core.py\u001b[0m in \u001b[0;36m_prepare_train_params\u001b[0;34m(self, X, y, cat_features, text_features, embedding_features, pairs, sample_weight, group_id, group_weight, subgroup_id, pairs_weight, baseline, use_best_model, eval_set, verbose, logging_level, plot, column_description, verbose_eval, metric_period, silent, early_stopping_rounds, save_snapshot, snapshot_file, snapshot_interval, init_model, callbacks)\u001b[0m\n\u001b[1;32m   2128\u001b[0m                     \u001b[0;32mraise\u001b[0m \u001b[0mCatBoostError\u001b[0m\u001b[0;34m(\u001b[0m\u001b[0;34m\"'eval_set' tuple contains at least one None value\"\u001b[0m\u001b[0;34m)\u001b[0m\u001b[0;34m\u001b[0m\u001b[0;34m\u001b[0m\u001b[0m\n\u001b[1;32m   2129\u001b[0m                 eval_sets.append(\n\u001b[0;32m-> 2130\u001b[0;31m                     Pool(\n\u001b[0m\u001b[1;32m   2131\u001b[0m                         \u001b[0meval_set\u001b[0m\u001b[0;34m[\u001b[0m\u001b[0;36m0\u001b[0m\u001b[0;34m]\u001b[0m\u001b[0;34m,\u001b[0m\u001b[0;34m\u001b[0m\u001b[0;34m\u001b[0m\u001b[0m\n\u001b[1;32m   2132\u001b[0m                         \u001b[0meval_set\u001b[0m\u001b[0;34m[\u001b[0m\u001b[0;36m1\u001b[0m\u001b[0;34m]\u001b[0m\u001b[0;34m,\u001b[0m\u001b[0;34m\u001b[0m\u001b[0;34m\u001b[0m\u001b[0m\n",
      "\u001b[0;32m~/.local/lib/python3.8/site-packages/catboost/core.py\u001b[0m in \u001b[0;36m__init__\u001b[0;34m(self, data, label, cat_features, text_features, embedding_features, column_description, pairs, delimiter, has_header, ignore_csv_quoting, weight, group_id, group_weight, subgroup_id, pairs_weight, baseline, timestamp, feature_names, feature_tags, thread_count, log_cout, log_cerr)\u001b[0m\n\u001b[1;32m    746\u001b[0m                     )\n\u001b[1;32m    747\u001b[0m \u001b[0;34m\u001b[0m\u001b[0m\n\u001b[0;32m--> 748\u001b[0;31m                 self._init(data, label, cat_features, text_features, embedding_features, pairs, weight,\n\u001b[0m\u001b[1;32m    749\u001b[0m                            group_id, group_weight, subgroup_id, pairs_weight, baseline, timestamp, feature_names, feature_tags, thread_count)\n\u001b[1;32m    750\u001b[0m         \u001b[0msuper\u001b[0m\u001b[0;34m(\u001b[0m\u001b[0mPool\u001b[0m\u001b[0;34m,\u001b[0m \u001b[0mself\u001b[0m\u001b[0;34m)\u001b[0m\u001b[0;34m.\u001b[0m\u001b[0m__init__\u001b[0m\u001b[0;34m(\u001b[0m\u001b[0;34m)\u001b[0m\u001b[0;34m\u001b[0m\u001b[0;34m\u001b[0m\u001b[0m\n",
      "\u001b[0;32m~/.local/lib/python3.8/site-packages/catboost/core.py\u001b[0m in \u001b[0;36m_init\u001b[0;34m(self, data, label, cat_features, text_features, embedding_features, pairs, weight, group_id, group_weight, subgroup_id, pairs_weight, baseline, timestamp, feature_names, feature_tags, thread_count)\u001b[0m\n\u001b[1;32m   1323\u001b[0m         \u001b[0;32mif\u001b[0m \u001b[0mfeature_tags\u001b[0m \u001b[0;32mis\u001b[0m \u001b[0;32mnot\u001b[0m \u001b[0;32mNone\u001b[0m\u001b[0;34m:\u001b[0m\u001b[0;34m\u001b[0m\u001b[0;34m\u001b[0m\u001b[0m\n\u001b[1;32m   1324\u001b[0m             \u001b[0mfeature_tags\u001b[0m \u001b[0;34m=\u001b[0m \u001b[0mself\u001b[0m\u001b[0;34m.\u001b[0m\u001b[0m_check_transform_tags\u001b[0m\u001b[0;34m(\u001b[0m\u001b[0mfeature_tags\u001b[0m\u001b[0;34m,\u001b[0m \u001b[0mfeature_names\u001b[0m\u001b[0;34m)\u001b[0m\u001b[0;34m\u001b[0m\u001b[0;34m\u001b[0m\u001b[0m\n\u001b[0;32m-> 1325\u001b[0;31m         self._init_pool(data, label, cat_features, text_features, embedding_features, pairs, weight,\n\u001b[0m\u001b[1;32m   1326\u001b[0m                         group_id, group_weight, subgroup_id, pairs_weight, baseline, timestamp, feature_names, feature_tags, thread_count)\n\u001b[1;32m   1327\u001b[0m \u001b[0;34m\u001b[0m\u001b[0m\n",
      "\u001b[0;32m_catboost.pyx\u001b[0m in \u001b[0;36m_catboost._PoolBase._init_pool\u001b[0;34m()\u001b[0m\n",
      "\u001b[0;32m_catboost.pyx\u001b[0m in \u001b[0;36m_catboost._PoolBase._init_pool\u001b[0;34m()\u001b[0m\n",
      "\u001b[0;32m_catboost.pyx\u001b[0m in \u001b[0;36m_catboost._PoolBase._init_features_order_layout_pool\u001b[0;34m()\u001b[0m\n",
      "\u001b[0;32m_catboost.pyx\u001b[0m in \u001b[0;36m_catboost._set_features_order_data_pd_data_frame\u001b[0;34m()\u001b[0m\n",
      "\u001b[0;32m_catboost.pyx\u001b[0m in \u001b[0;36m_catboost.create_num_factor_data\u001b[0;34m()\u001b[0m\n",
      "\u001b[0;32m_catboost.pyx\u001b[0m in \u001b[0;36m_catboost.get_float_feature\u001b[0;34m()\u001b[0m\n",
      "\u001b[0;31mCatBoostError\u001b[0m: Bad value for num_feature[non_default_doc_idx=729,feature_idx=0]=\"NaT\": Cannot convert obj NaT to float"
     ]
    }
   ],
   "source": [
    "reg.fit(X_train, y_train, eval_set=(X_val, y_val),\n",
    "        cat_features=['Подстанция', 'Сезон',\n",
    "                      'quarter', 'dayofweek'],)\n",
    "        #text_features=['Диагноз', \"Результат\"])"
   ]
  },
  {
   "cell_type": "code",
   "execution_count": 34,
   "id": "4438ca83",
   "metadata": {
    "id": "f79dd872-2313-4a92-ac5c-1eb75b85c251"
   },
   "outputs": [],
   "source": [
    "from sklearn.metrics import mean_squared_error, mean_absolute_error, mean_absolute_percentage_error, explained_variance_score"
   ]
  },
  {
   "cell_type": "code",
   "execution_count": 35,
   "id": "c2161756",
   "metadata": {
    "colab": {
     "base_uri": "https://localhost:8080/"
    },
    "id": "6a1591ac-4141-43ba-99c7-d01b6ca43ecd",
    "outputId": "1c673234-0cf8-45ae-8ca9-1a4ecedacb8f"
   },
   "outputs": [
    {
     "data": {
      "text/plain": [
       "3.723260146071508"
      ]
     },
     "execution_count": 35,
     "metadata": {},
     "output_type": "execute_result"
    }
   ],
   "source": [
    "mean_squared_error(y_val, reg.predict(X_val), squared=False)"
   ]
  },
  {
   "cell_type": "code",
   "execution_count": 36,
   "id": "e8262040",
   "metadata": {
    "colab": {
     "base_uri": "https://localhost:8080/"
    },
    "id": "SQwQG3xOkNgB",
    "outputId": "8b1d2541-f8a6-45bc-d4b8-6f805d7c6247"
   },
   "outputs": [
    {
     "data": {
      "text/plain": [
       "13.862666115324426"
      ]
     },
     "execution_count": 36,
     "metadata": {},
     "output_type": "execute_result"
    }
   ],
   "source": [
    "mean_squared_error(y_val, reg.predict(X_val))"
   ]
  },
  {
   "cell_type": "code",
   "execution_count": 37,
   "id": "bca5b6a5",
   "metadata": {
    "colab": {
     "base_uri": "https://localhost:8080/"
    },
    "id": "uR9pd2BekCh3",
    "outputId": "8011430e-0672-495a-f61c-84b39592224f"
   },
   "outputs": [
    {
     "data": {
      "text/plain": [
       "2.624557659732949"
      ]
     },
     "execution_count": 37,
     "metadata": {},
     "output_type": "execute_result"
    }
   ],
   "source": [
    "mean_absolute_error(y_val, reg.predict(X_val))"
   ]
  },
  {
   "cell_type": "code",
   "execution_count": 38,
   "id": "96011399",
   "metadata": {
    "colab": {
     "base_uri": "https://localhost:8080/"
    },
    "id": "D_PZCizdkLAs",
    "outputId": "44b7cf2b-347b-4343-a9bb-8564def3aca5"
   },
   "outputs": [
    {
     "data": {
      "text/plain": [
       "0.5007725232488286"
      ]
     },
     "execution_count": 38,
     "metadata": {},
     "output_type": "execute_result"
    }
   ],
   "source": [
    "mean_absolute_percentage_error(y_val, reg.predict(X_val))"
   ]
  },
  {
   "cell_type": "code",
   "execution_count": 39,
   "id": "55c1291b",
   "metadata": {
    "colab": {
     "base_uri": "https://localhost:8080/"
    },
    "id": "UpVbkEVnqC84",
    "outputId": "7cdc248b-138b-4c04-b06b-66c04719c9ae"
   },
   "outputs": [
    {
     "data": {
      "text/plain": [
       "0.6397900374126941"
      ]
     },
     "execution_count": 39,
     "metadata": {},
     "output_type": "execute_result"
    }
   ],
   "source": [
    "explained_variance_score(y_val, reg.predict(X_val))"
   ]
  },
  {
   "cell_type": "code",
   "execution_count": 41,
   "id": "4b0a0ee8",
   "metadata": {
    "id": "uqfNmWRhfJv9"
   },
   "outputs": [],
   "source": [
    "reg.save_model(\"model_main.cbm\")"
   ]
  },
  {
   "cell_type": "code",
   "execution_count": null,
   "id": "5c7cdddd",
   "metadata": {
    "id": "CPRETFh4X8lT"
   },
   "outputs": [],
   "source": [
    "from catboost import EShapCalcType, EFeaturesSelectionAlgorithm"
   ]
  },
  {
   "cell_type": "code",
   "execution_count": null,
   "id": "34fb50b7",
   "metadata": {
    "id": "HfjktdmMYIXq"
   },
   "outputs": [],
   "source": [
    "model = CatBoostRegressor(loss_function='RMSE',\n",
    "                          task_type='GPU',\n",
    "                          verbose=10,\n",
    "                          iterations=1000,\n",
    "                          random_seed=42,\n",
    "                          cat_features=['Подстанция', 'Сезон',\n",
    "                                        'quarter', 'dayofweek'],)"
   ]
  },
  {
   "cell_type": "code",
   "execution_count": null,
   "id": "599842fa",
   "metadata": {
    "id": "Uke7hXfnYBxR"
   },
   "outputs": [],
   "source": [
    "num_features_to_select = 20\n",
    "summary = model.select_features(\n",
    "        X=X_train,\n",
    "        y=y_train,\n",
    "        eval_set=(X_val, y_val),\n",
    "        features_for_select=f\"0-{len(X_train.columns) - 1}\",\n",
    "        num_features_to_select=num_features_to_select,\n",
    "        steps=3,\n",
    "        algorithm=EFeaturesSelectionAlgorithm.RecursiveByShapValues,\n",
    "        shap_calc_type=EShapCalcType.Regular,\n",
    "        verbose=False,\n",
    "        train_final_model=True\n",
    "    )"
   ]
  },
  {
   "cell_type": "code",
   "execution_count": null,
   "id": "dbda5279",
   "metadata": {
    "id": "_uxCf6x2aT4W"
   },
   "outputs": [],
   "source": [
    "summary.keys()"
   ]
  },
  {
   "cell_type": "code",
   "execution_count": null,
   "id": "0a3f78a7",
   "metadata": {
    "id": "yLNQkc1vaaim"
   },
   "outputs": [],
   "source": [
    "summary[\"selected_features_names\"]"
   ]
  },
  {
   "cell_type": "code",
   "execution_count": null,
   "id": "34c7ee69",
   "metadata": {
    "id": "OEFksLR9lMiX"
   },
   "outputs": [],
   "source": [
    "feature_importance = pd.DataFrame({'feature_importance': reg.feature_importances_,\n",
    "                                   'feature_names': X_val.columns}).sort_values(by=['feature_importance'],\n",
    "                                                                                ascending=False)"
   ]
  },
  {
   "cell_type": "code",
   "execution_count": null,
   "id": "5c3f8d71",
   "metadata": {
    "id": "-VxFTw3cllR3"
   },
   "outputs": [],
   "source": [
    "feature_importance.head(25)"
   ]
  },
  {
   "cell_type": "code",
   "execution_count": null,
   "id": "265f1048",
   "metadata": {
    "id": "30a5775d-0631-4b01-b76b-ffc6c0790598"
   },
   "outputs": [],
   "source": [
    "feature_importance.to_csv('top_time_features.csv', index=False)"
   ]
  }
 ],
 "metadata": {
  "accelerator": "GPU",
  "colab": {
   "collapsed_sections": [],
   "name": "hack_catboost_train.ipynb",
   "provenance": []
  },
  "kernelspec": {
   "display_name": "Python 3",
   "language": "python",
   "name": "python3"
  },
  "language_info": {
   "codemirror_mode": {
    "name": "ipython",
    "version": 3
   },
   "file_extension": ".py",
   "mimetype": "text/x-python",
   "name": "python",
   "nbconvert_exporter": "python",
   "pygments_lexer": "ipython3",
   "version": "3.8.10"
  }
 },
 "nbformat": 4,
 "nbformat_minor": 5
}
